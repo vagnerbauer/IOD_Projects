{
 "cells": [
  {
   "cell_type": "code",
   "execution_count": null,
   "metadata": {
    "colab": {
     "base_uri": "https://localhost:8080/",
     "height": 296
    },
    "colab_type": "code",
    "executionInfo": {
     "elapsed": 891,
     "status": "ok",
     "timestamp": 1600167616381,
     "user": {
      "displayName": "Ahmed Fattah",
      "photoUrl": "https://lh3.googleusercontent.com/a-/AOh14GitMHdB1CnaPDlyYfp3SDTuxrJxvBO4uC3d04a2=s64",
      "userId": "02527647321416275528"
     },
     "user_tz": -600
    },
    "id": "aMCdgQhAk54r",
    "outputId": "a3654d99-edec-4b60-cfd2-1bb731bf6c23"
   },
   "outputs": [],
   "source": [
    "# My first Python program\n",
    "import matplotlib.pyplot as pt\n",
    "month = [\"Jan\", \"Feb\", \"Mar\", \"Apr\", \"May\"]\n",
    "sales = [50, 100, 200, 300, 500]\n",
    "pt.bar(month, sales)\n",
    "pt.xlabel('Month')\n",
    "pt.ylabel('Sales ($k)')"
   ]
  }
 ],
 "metadata": {
  "colab": {
   "collapsed_sections": [],
   "name": "Lab0.ipynb",
   "provenance": []
  },
  "kernelspec": {
   "display_name": "Python 3",
   "language": "python",
   "name": "python3"
  },
  "language_info": {
   "codemirror_mode": {
    "name": "ipython",
    "version": 3
   },
   "file_extension": ".py",
   "mimetype": "text/x-python",
   "name": "python",
   "nbconvert_exporter": "python",
   "pygments_lexer": "ipython3",
   "version": "3.8.5"
  }
 },
 "nbformat": 4,
 "nbformat_minor": 1
}
