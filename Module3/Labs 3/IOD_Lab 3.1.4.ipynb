{
 "cells": [
  {
   "cell_type": "markdown",
   "metadata": {
    "id": "s8RoBuCkB_bW"
   },
   "source": [
    "<div>\n",
    "<img src=https://www.institutedata.com/wp-content/uploads/2019/10/iod_h_tp_primary_c.svg width=\"300\">\n",
    "</div>"
   ]
  },
  {
   "cell_type": "markdown",
   "metadata": {
    "id": "cW5QEs4PB_bY"
   },
   "source": [
    "# Lab 3.1.4 \n",
    "# *Python with MongoDB*"
   ]
  },
  {
   "cell_type": "markdown",
   "metadata": {
    "id": "VjUpP-kFB_bb"
   },
   "source": [
    "## Introduction to PyMongo"
   ]
  },
  {
   "cell_type": "code",
   "execution_count": 1,
   "metadata": {
    "id": "56Yk9yQtB_bd"
   },
   "outputs": [
    {
     "name": "stdout",
     "output_type": "stream",
     "text": [
      "Mongo version 3.12.0\n"
     ]
    },
    {
     "name": "stderr",
     "output_type": "stream",
     "text": [
      "/var/folders/jk/1cws__yn4bbfzktv83sdj85w0000gn/T/ipykernel_47959/1201951307.py:1: DeprecationWarning: Importing display from IPython.core.display is deprecated since IPython 7.14, please import from IPython display\n",
      "  from IPython.core.display import display, HTML\n"
     ]
    }
   ],
   "source": [
    "from IPython.core.display import display, HTML\n",
    "import pymongo\n",
    "from pymongo import MongoClient\n",
    "print ('Mongo version ' + pymongo.__version__)"
   ]
  },
  {
   "cell_type": "markdown",
   "metadata": {
    "id": "RYmFPZ0rB_bk"
   },
   "source": [
    "Start the mongod server (if it isn't lready running) by executing  \n",
    "`mongod`  \n",
    "at the command prompt. "
   ]
  },
  {
   "cell_type": "code",
   "execution_count": 124,
   "metadata": {
    "id": "NiYV2_VIB_bm"
   },
   "outputs": [],
   "source": [
    "client = MongoClient('localhost', 27017)"
   ]
  },
  {
   "cell_type": "code",
   "execution_count": 125,
   "metadata": {
    "id": "bT3ZRAlUB_bs"
   },
   "outputs": [],
   "source": [
    "db = client.test\n",
    "collection = db.people\n",
    "collection.drop()"
   ]
  },
  {
   "cell_type": "markdown",
   "metadata": {
    "id": "QThQjc41B_bx"
   },
   "source": [
    "Create a new database:"
   ]
  },
  {
   "cell_type": "code",
   "execution_count": 126,
   "metadata": {
    "id": "ZXEhlduTB_bz"
   },
   "outputs": [],
   "source": [
    "mydb = client[\"mydatabase\"]"
   ]
  },
  {
   "cell_type": "markdown",
   "metadata": {
    "id": "pGnGorm6B_b3"
   },
   "source": [
    "Confirm that the database exists ... \n",
    "\n",
    "- list all databases in your system:"
   ]
  },
  {
   "cell_type": "code",
   "execution_count": 127,
   "metadata": {
    "id": "q2XzfF-GB_b4"
   },
   "outputs": [
    {
     "data": {
      "text/plain": [
       "Database(MongoClient(host=['localhost:27017'], document_class=dict, tz_aware=False, connect=True), 'mydatabase')"
      ]
     },
     "execution_count": 127,
     "metadata": {},
     "output_type": "execute_result"
    }
   ],
   "source": [
    "mydb"
   ]
  },
  {
   "cell_type": "markdown",
   "metadata": {
    "id": "D5FP0EKIB_b7"
   },
   "source": [
    "- check for the database by name:"
   ]
  },
  {
   "cell_type": "markdown",
   "metadata": {
    "id": "h9QhJxWIB_b_"
   },
   "source": [
    "The new database was not found because mongodb is lazy: the db won't get created until data has been written to it!"
   ]
  },
  {
   "cell_type": "markdown",
   "metadata": {
    "id": "HvVFPpgRB_cA"
   },
   "source": [
    "Create a collection called \"customers\" (with object name `mycol`):"
   ]
  },
  {
   "cell_type": "code",
   "execution_count": 128,
   "metadata": {
    "id": "cR-l1YrYB_cB"
   },
   "outputs": [],
   "source": [
    "#ANSWER:\n",
    "mycol = mydb[\"customers\"]"
   ]
  },
  {
   "cell_type": "markdown",
   "metadata": {
    "id": "TRIbsM6VB_cE"
   },
   "source": [
    "Create a document (i.e. a dictionary) with two name:value items \n",
    "(\"name\" = \"John\", and \"address\" = \"Highway 37\") and insert \n",
    "it into the \"customers\" collection: "
   ]
  },
  {
   "cell_type": "code",
   "execution_count": 129,
   "metadata": {
    "id": "KI1lYOBvB_cF"
   },
   "outputs": [],
   "source": [
    "#ANSWER:\n",
    "mydict = { \"name\": \"John\", \"address\": \"Highway 37\" }\n",
    "x = mycol.insert_one(mydict)"
   ]
  },
  {
   "cell_type": "markdown",
   "metadata": {
    "id": "_EEiTjd_B_cH"
   },
   "source": [
    "Now test for the existence of the database:"
   ]
  },
  {
   "cell_type": "code",
   "execution_count": 130,
   "metadata": {
    "id": "JsPz--uIB_cI"
   },
   "outputs": [
    {
     "name": "stdout",
     "output_type": "stream",
     "text": [
      "['admin', 'config', 'local', 'mydatabase']\n"
     ]
    }
   ],
   "source": [
    "print(client.list_database_names())"
   ]
  },
  {
   "cell_type": "markdown",
   "metadata": {
    "id": "WvgAowAdB_cK"
   },
   "source": [
    "List all collections in the database:"
   ]
  },
  {
   "cell_type": "code",
   "execution_count": 131,
   "metadata": {
    "id": "JMl-YlPNB_cK"
   },
   "outputs": [
    {
     "name": "stdout",
     "output_type": "stream",
     "text": [
      "['customers']\n"
     ]
    }
   ],
   "source": [
    "#ANSWER:\n",
    "print(mydb.list_collection_names())"
   ]
  },
  {
   "cell_type": "markdown",
   "metadata": {
    "id": "ZBpH0Q9dB_cM"
   },
   "source": [
    "Insert another record in the \"customers\" collection \n",
    "(\"name\" = \"Peter\", \"address\" = \"Lowstreet 27\") \n",
    "and return the value of the _id field:"
   ]
  },
  {
   "cell_type": "code",
   "execution_count": 132,
   "metadata": {
    "id": "LzSwoIlIB_cN"
   },
   "outputs": [
    {
     "name": "stdout",
     "output_type": "stream",
     "text": [
      "63e0be1123f85a2d0aea2a3e\n"
     ]
    }
   ],
   "source": [
    "#ANSWER:\n",
    "mydict = { \"name\": \"Peter\", \"address\": \"Lowstreet 27\" }\n",
    "x = mycol.insert_one(mydict)\n",
    "print(x.inserted_id)"
   ]
  },
  {
   "cell_type": "markdown",
   "metadata": {
    "id": "g81P900vB_cP"
   },
   "source": [
    "Given the list of dicts below, insert multiple documents into \n",
    "the collection using the insert_many() method:"
   ]
  },
  {
   "cell_type": "code",
   "execution_count": 134,
   "metadata": {
    "id": "E7fwTxbcB_cP"
   },
   "outputs": [],
   "source": [
    "mylist = [\n",
    "  { \"name\": \"Amy\", \"address\": \"Apple st 652\"},\n",
    "  { \"name\": \"Hannah\", \"address\": \"Mountain 21\"},\n",
    "  { \"name\": \"Michael\", \"address\": \"Valley 345\"},\n",
    "  { \"name\": \"Sandy\", \"address\": \"Ocean blvd 2\"},\n",
    "  { \"name\": \"Betty\", \"address\": \"Green Grass 1\"},\n",
    "  { \"name\": \"Richard\", \"address\": \"Sky st 331\"},\n",
    "  { \"name\": \"Susan\", \"address\": \"One way 98\"},\n",
    "  { \"name\": \"Vicky\", \"address\": \"Yellow Garden 2\"},\n",
    "  { \"name\": \"Ben\", \"address\": \"Park Lane 38\"},\n",
    "  { \"name\": \"William\", \"address\": \"Central st 954\"},\n",
    "  { \"name\": \"Chuck\", \"address\": \"Main Road 989\"},\n",
    "  { \"name\": \"Viola\", \"address\": \"Sideway 1633\"}\n",
    "]"
   ]
  },
  {
   "cell_type": "code",
   "execution_count": 135,
   "metadata": {
    "id": "g6xDpO86B_cR"
   },
   "outputs": [],
   "source": [
    "#ANSWER:\n",
    "x = mycol.insert_many(mylist)"
   ]
  },
  {
   "cell_type": "markdown",
   "metadata": {
    "id": "ZmuKgJ5SB_cU"
   },
   "source": [
    "Print a list of the _id values of the inserted documents:"
   ]
  },
  {
   "cell_type": "code",
   "execution_count": 136,
   "metadata": {
    "id": "zLS5mhlIB_cV"
   },
   "outputs": [
    {
     "name": "stdout",
     "output_type": "stream",
     "text": [
      "[ObjectId('63e0be2123f85a2d0aea2a3f'), ObjectId('63e0be2123f85a2d0aea2a40'), ObjectId('63e0be2123f85a2d0aea2a41'), ObjectId('63e0be2123f85a2d0aea2a42'), ObjectId('63e0be2123f85a2d0aea2a43'), ObjectId('63e0be2123f85a2d0aea2a44'), ObjectId('63e0be2123f85a2d0aea2a45'), ObjectId('63e0be2123f85a2d0aea2a46'), ObjectId('63e0be2123f85a2d0aea2a47'), ObjectId('63e0be2123f85a2d0aea2a48'), ObjectId('63e0be2123f85a2d0aea2a49'), ObjectId('63e0be2123f85a2d0aea2a4a')]\n"
     ]
    }
   ],
   "source": [
    "#ANSWER:\n",
    "print(x.inserted_ids)"
   ]
  },
  {
   "cell_type": "markdown",
   "metadata": {
    "id": "kC0U_tYqB_cX"
   },
   "source": [
    "Execute the next cell to insert a list of dicts with specified `_id`s:"
   ]
  },
  {
   "cell_type": "code",
   "execution_count": 137,
   "metadata": {
    "id": "RnAv0sMdB_cX"
   },
   "outputs": [
    {
     "name": "stdout",
     "output_type": "stream",
     "text": [
      "[1, 2, 3, 4, 5, 6, 7, 8, 9, 10, 11, 12, 13, 14]\n"
     ]
    }
   ],
   "source": [
    "mylist = [\n",
    "  { \"_id\": 1, \"name\": \"John\", \"address\": \"Highway 37\"},\n",
    "  { \"_id\": 2, \"name\": \"Peter\", \"address\": \"Lowstreet 27\"},\n",
    "  { \"_id\": 3, \"name\": \"Amy\", \"address\": \"Apple st 652\"},\n",
    "  { \"_id\": 4, \"name\": \"Hannah\", \"address\": \"Mountain 21\"},\n",
    "  { \"_id\": 5, \"name\": \"Michael\", \"address\": \"Valley 345\"},\n",
    "  { \"_id\": 6, \"name\": \"Sandy\", \"address\": \"Ocean blvd 2\"},\n",
    "  { \"_id\": 7, \"name\": \"Betty\", \"address\": \"Green Grass 1\"},\n",
    "  { \"_id\": 8, \"name\": \"Richard\", \"address\": \"Sky st 331\"},\n",
    "  { \"_id\": 9, \"name\": \"Susan\", \"address\": \"One way 98\"},\n",
    "  { \"_id\": 10, \"name\": \"Vicky\", \"address\": \"Yellow Garden 2\"},\n",
    "  { \"_id\": 11, \"name\": \"Ben\", \"address\": \"Park Lane 38\"},\n",
    "  { \"_id\": 12, \"name\": \"William\", \"address\": \"Central st 954\"},\n",
    "  { \"_id\": 13, \"name\": \"Chuck\", \"address\": \"Main Road 989\"},\n",
    "  { \"_id\": 14, \"name\": \"Viola\", \"address\": \"Sideway 1633\"}\n",
    "]\n",
    "x = mycol.insert_many(mylist)\n",
    "print(x.inserted_ids)"
   ]
  },
  {
   "cell_type": "markdown",
   "metadata": {
    "id": "vVPR7vhNB_cZ"
   },
   "source": [
    "Now try inserting a new dict with an existing `_id`:"
   ]
  },
  {
   "cell_type": "code",
   "execution_count": 138,
   "metadata": {
    "id": "Gklp0IIIB_ca"
   },
   "outputs": [
    {
     "ename": "DuplicateKeyError",
     "evalue": "E11000 duplicate key error collection: mydatabase.customers index: _id_ dup key: { _id: 14 }, full error: {'index': 0, 'code': 11000, 'errmsg': 'E11000 duplicate key error collection: mydatabase.customers index: _id_ dup key: { _id: 14 }', 'keyPattern': {'_id': 1}, 'keyValue': {'_id': 14}}",
     "output_type": "error",
     "traceback": [
      "\u001b[0;31m---------------------------------------------------------------------------\u001b[0m",
      "\u001b[0;31mDuplicateKeyError\u001b[0m                         Traceback (most recent call last)",
      "Cell \u001b[0;32mIn [138], line 1\u001b[0m\n\u001b[0;32m----> 1\u001b[0m x \u001b[38;5;241m=\u001b[39m \u001b[43mmycol\u001b[49m\u001b[38;5;241;43m.\u001b[39;49m\u001b[43minsert_one\u001b[49m\u001b[43m(\u001b[49m\u001b[43m{\u001b[49m\u001b[43m \u001b[49m\u001b[38;5;124;43m\"\u001b[39;49m\u001b[38;5;124;43m_id\u001b[39;49m\u001b[38;5;124;43m\"\u001b[39;49m\u001b[43m:\u001b[49m\u001b[43m \u001b[49m\u001b[38;5;241;43m14\u001b[39;49m\u001b[43m,\u001b[49m\u001b[43m \u001b[49m\u001b[38;5;124;43m\"\u001b[39;49m\u001b[38;5;124;43mname\u001b[39;49m\u001b[38;5;124;43m\"\u001b[39;49m\u001b[43m:\u001b[49m\u001b[43m \u001b[49m\u001b[38;5;124;43m\"\u001b[39;49m\u001b[38;5;124;43mManuel\u001b[39;49m\u001b[38;5;124;43m\"\u001b[39;49m\u001b[43m,\u001b[49m\u001b[43m \u001b[49m\u001b[38;5;124;43m\"\u001b[39;49m\u001b[38;5;124;43maddress\u001b[39;49m\u001b[38;5;124;43m\"\u001b[39;49m\u001b[43m:\u001b[49m\u001b[43m \u001b[49m\u001b[38;5;124;43m\"\u001b[39;49m\u001b[38;5;124;43mBarcelona\u001b[39;49m\u001b[38;5;124;43m\"\u001b[39;49m\u001b[43m}\u001b[49m\u001b[43m)\u001b[49m\n",
      "File \u001b[0;32m~/opt/anaconda3/envs/test/lib/python3.9/site-packages/pymongo/collection.py:705\u001b[0m, in \u001b[0;36mCollection.insert_one\u001b[0;34m(self, document, bypass_document_validation, session)\u001b[0m\n\u001b[1;32m    701\u001b[0m     document[\u001b[38;5;124m\"\u001b[39m\u001b[38;5;124m_id\u001b[39m\u001b[38;5;124m\"\u001b[39m] \u001b[38;5;241m=\u001b[39m ObjectId()\n\u001b[1;32m    703\u001b[0m write_concern \u001b[38;5;241m=\u001b[39m \u001b[38;5;28mself\u001b[39m\u001b[38;5;241m.\u001b[39m_write_concern_for(session)\n\u001b[1;32m    704\u001b[0m \u001b[38;5;28;01mreturn\u001b[39;00m InsertOneResult(\n\u001b[0;32m--> 705\u001b[0m     \u001b[38;5;28;43mself\u001b[39;49m\u001b[38;5;241;43m.\u001b[39;49m\u001b[43m_insert\u001b[49m\u001b[43m(\u001b[49m\u001b[43mdocument\u001b[49m\u001b[43m,\u001b[49m\n\u001b[1;32m    706\u001b[0m \u001b[43m                 \u001b[49m\u001b[43mwrite_concern\u001b[49m\u001b[38;5;241;43m=\u001b[39;49m\u001b[43mwrite_concern\u001b[49m\u001b[43m,\u001b[49m\n\u001b[1;32m    707\u001b[0m \u001b[43m                 \u001b[49m\u001b[43mbypass_doc_val\u001b[49m\u001b[38;5;241;43m=\u001b[39;49m\u001b[43mbypass_document_validation\u001b[49m\u001b[43m,\u001b[49m\n\u001b[1;32m    708\u001b[0m \u001b[43m                 \u001b[49m\u001b[43msession\u001b[49m\u001b[38;5;241;43m=\u001b[39;49m\u001b[43msession\u001b[49m\u001b[43m)\u001b[49m,\n\u001b[1;32m    709\u001b[0m     write_concern\u001b[38;5;241m.\u001b[39macknowledged)\n",
      "File \u001b[0;32m~/opt/anaconda3/envs/test/lib/python3.9/site-packages/pymongo/collection.py:620\u001b[0m, in \u001b[0;36mCollection._insert\u001b[0;34m(self, docs, ordered, check_keys, manipulate, write_concern, op_id, bypass_doc_val, session)\u001b[0m\n\u001b[1;32m    618\u001b[0m \u001b[38;5;124;03m\"\"\"Internal insert helper.\"\"\"\u001b[39;00m\n\u001b[1;32m    619\u001b[0m \u001b[38;5;28;01mif\u001b[39;00m \u001b[38;5;28misinstance\u001b[39m(docs, abc\u001b[38;5;241m.\u001b[39mMapping):\n\u001b[0;32m--> 620\u001b[0m     \u001b[38;5;28;01mreturn\u001b[39;00m \u001b[38;5;28;43mself\u001b[39;49m\u001b[38;5;241;43m.\u001b[39;49m\u001b[43m_insert_one\u001b[49m\u001b[43m(\u001b[49m\n\u001b[1;32m    621\u001b[0m \u001b[43m        \u001b[49m\u001b[43mdocs\u001b[49m\u001b[43m,\u001b[49m\u001b[43m \u001b[49m\u001b[43mordered\u001b[49m\u001b[43m,\u001b[49m\u001b[43m \u001b[49m\u001b[43mcheck_keys\u001b[49m\u001b[43m,\u001b[49m\u001b[43m \u001b[49m\u001b[43mmanipulate\u001b[49m\u001b[43m,\u001b[49m\u001b[43m \u001b[49m\u001b[43mwrite_concern\u001b[49m\u001b[43m,\u001b[49m\u001b[43m \u001b[49m\u001b[43mop_id\u001b[49m\u001b[43m,\u001b[49m\n\u001b[1;32m    622\u001b[0m \u001b[43m        \u001b[49m\u001b[43mbypass_doc_val\u001b[49m\u001b[43m,\u001b[49m\u001b[43m \u001b[49m\u001b[43msession\u001b[49m\u001b[43m)\u001b[49m\n\u001b[1;32m    624\u001b[0m ids \u001b[38;5;241m=\u001b[39m []\n\u001b[1;32m    626\u001b[0m \u001b[38;5;28;01mif\u001b[39;00m manipulate:\n",
      "File \u001b[0;32m~/opt/anaconda3/envs/test/lib/python3.9/site-packages/pymongo/collection.py:609\u001b[0m, in \u001b[0;36mCollection._insert_one\u001b[0;34m(self, doc, ordered, check_keys, manipulate, write_concern, op_id, bypass_doc_val, session)\u001b[0m\n\u001b[1;32m    597\u001b[0m     result \u001b[38;5;241m=\u001b[39m sock_info\u001b[38;5;241m.\u001b[39mcommand(\n\u001b[1;32m    598\u001b[0m         \u001b[38;5;28mself\u001b[39m\u001b[38;5;241m.\u001b[39m__database\u001b[38;5;241m.\u001b[39mname,\n\u001b[1;32m    599\u001b[0m         command,\n\u001b[0;32m   (...)\u001b[0m\n\u001b[1;32m    604\u001b[0m         client\u001b[38;5;241m=\u001b[39m\u001b[38;5;28mself\u001b[39m\u001b[38;5;241m.\u001b[39m__database\u001b[38;5;241m.\u001b[39mclient,\n\u001b[1;32m    605\u001b[0m         retryable_write\u001b[38;5;241m=\u001b[39mretryable_write)\n\u001b[1;32m    607\u001b[0m     _check_write_command_response(result)\n\u001b[0;32m--> 609\u001b[0m \u001b[38;5;28;43mself\u001b[39;49m\u001b[38;5;241;43m.\u001b[39;49m\u001b[43m__database\u001b[49m\u001b[38;5;241;43m.\u001b[39;49m\u001b[43mclient\u001b[49m\u001b[38;5;241;43m.\u001b[39;49m\u001b[43m_retryable_write\u001b[49m\u001b[43m(\u001b[49m\n\u001b[1;32m    610\u001b[0m \u001b[43m    \u001b[49m\u001b[43macknowledged\u001b[49m\u001b[43m,\u001b[49m\u001b[43m \u001b[49m\u001b[43m_insert_command\u001b[49m\u001b[43m,\u001b[49m\u001b[43m \u001b[49m\u001b[43msession\u001b[49m\u001b[43m)\u001b[49m\n\u001b[1;32m    612\u001b[0m \u001b[38;5;28;01mif\u001b[39;00m \u001b[38;5;129;01mnot\u001b[39;00m \u001b[38;5;28misinstance\u001b[39m(doc, RawBSONDocument):\n\u001b[1;32m    613\u001b[0m     \u001b[38;5;28;01mreturn\u001b[39;00m doc\u001b[38;5;241m.\u001b[39mget(\u001b[38;5;124m'\u001b[39m\u001b[38;5;124m_id\u001b[39m\u001b[38;5;124m'\u001b[39m)\n",
      "File \u001b[0;32m~/opt/anaconda3/envs/test/lib/python3.9/site-packages/pymongo/mongo_client.py:1552\u001b[0m, in \u001b[0;36mMongoClient._retryable_write\u001b[0;34m(self, retryable, func, session)\u001b[0m\n\u001b[1;32m   1550\u001b[0m \u001b[38;5;124;03m\"\"\"Internal retryable write helper.\"\"\"\u001b[39;00m\n\u001b[1;32m   1551\u001b[0m \u001b[38;5;28;01mwith\u001b[39;00m \u001b[38;5;28mself\u001b[39m\u001b[38;5;241m.\u001b[39m_tmp_session(session) \u001b[38;5;28;01mas\u001b[39;00m s:\n\u001b[0;32m-> 1552\u001b[0m     \u001b[38;5;28;01mreturn\u001b[39;00m \u001b[38;5;28;43mself\u001b[39;49m\u001b[38;5;241;43m.\u001b[39;49m\u001b[43m_retry_with_session\u001b[49m\u001b[43m(\u001b[49m\u001b[43mretryable\u001b[49m\u001b[43m,\u001b[49m\u001b[43m \u001b[49m\u001b[43mfunc\u001b[49m\u001b[43m,\u001b[49m\u001b[43m \u001b[49m\u001b[43ms\u001b[49m\u001b[43m,\u001b[49m\u001b[43m \u001b[49m\u001b[38;5;28;43;01mNone\u001b[39;49;00m\u001b[43m)\u001b[49m\n",
      "File \u001b[0;32m~/opt/anaconda3/envs/test/lib/python3.9/site-packages/pymongo/mongo_client.py:1438\u001b[0m, in \u001b[0;36mMongoClient._retry_with_session\u001b[0;34m(self, retryable, func, session, bulk)\u001b[0m\n\u001b[1;32m   1429\u001b[0m \u001b[38;5;124;03m\"\"\"Execute an operation with at most one consecutive retries\u001b[39;00m\n\u001b[1;32m   1430\u001b[0m \n\u001b[1;32m   1431\u001b[0m \u001b[38;5;124;03mReturns func()'s return value on success. On error retries the same\u001b[39;00m\n\u001b[0;32m   (...)\u001b[0m\n\u001b[1;32m   1434\u001b[0m \u001b[38;5;124;03mRe-raises any exception thrown by func().\u001b[39;00m\n\u001b[1;32m   1435\u001b[0m \u001b[38;5;124;03m\"\"\"\u001b[39;00m\n\u001b[1;32m   1436\u001b[0m retryable \u001b[38;5;241m=\u001b[39m (retryable \u001b[38;5;129;01mand\u001b[39;00m \u001b[38;5;28mself\u001b[39m\u001b[38;5;241m.\u001b[39mretry_writes\n\u001b[1;32m   1437\u001b[0m              \u001b[38;5;129;01mand\u001b[39;00m session \u001b[38;5;129;01mand\u001b[39;00m \u001b[38;5;129;01mnot\u001b[39;00m session\u001b[38;5;241m.\u001b[39min_transaction)\n\u001b[0;32m-> 1438\u001b[0m \u001b[38;5;28;01mreturn\u001b[39;00m \u001b[38;5;28;43mself\u001b[39;49m\u001b[38;5;241;43m.\u001b[39;49m\u001b[43m_retry_internal\u001b[49m\u001b[43m(\u001b[49m\u001b[43mretryable\u001b[49m\u001b[43m,\u001b[49m\u001b[43m \u001b[49m\u001b[43mfunc\u001b[49m\u001b[43m,\u001b[49m\u001b[43m \u001b[49m\u001b[43msession\u001b[49m\u001b[43m,\u001b[49m\u001b[43m \u001b[49m\u001b[43mbulk\u001b[49m\u001b[43m)\u001b[49m\n",
      "File \u001b[0;32m~/opt/anaconda3/envs/test/lib/python3.9/site-packages/pymongo/mongo_client.py:1470\u001b[0m, in \u001b[0;36mMongoClient._retry_internal\u001b[0;34m(self, retryable, func, session, bulk)\u001b[0m\n\u001b[1;32m   1468\u001b[0m                 \u001b[38;5;28;01mraise\u001b[39;00m last_error\n\u001b[1;32m   1469\u001b[0m             retryable \u001b[38;5;241m=\u001b[39m \u001b[38;5;28;01mFalse\u001b[39;00m\n\u001b[0;32m-> 1470\u001b[0m         \u001b[38;5;28;01mreturn\u001b[39;00m \u001b[43mfunc\u001b[49m\u001b[43m(\u001b[49m\u001b[43msession\u001b[49m\u001b[43m,\u001b[49m\u001b[43m \u001b[49m\u001b[43msock_info\u001b[49m\u001b[43m,\u001b[49m\u001b[43m \u001b[49m\u001b[43mretryable\u001b[49m\u001b[43m)\u001b[49m\n\u001b[1;32m   1471\u001b[0m \u001b[38;5;28;01mexcept\u001b[39;00m ServerSelectionTimeoutError:\n\u001b[1;32m   1472\u001b[0m     \u001b[38;5;28;01mif\u001b[39;00m is_retrying():\n\u001b[1;32m   1473\u001b[0m         \u001b[38;5;66;03m# The application may think the write was never attempted\u001b[39;00m\n\u001b[1;32m   1474\u001b[0m         \u001b[38;5;66;03m# if we raise ServerSelectionTimeoutError on the retry\u001b[39;00m\n\u001b[1;32m   1475\u001b[0m         \u001b[38;5;66;03m# attempt. Raise the original exception instead.\u001b[39;00m\n",
      "File \u001b[0;32m~/opt/anaconda3/envs/test/lib/python3.9/site-packages/pymongo/collection.py:607\u001b[0m, in \u001b[0;36mCollection._insert_one.<locals>._insert_command\u001b[0;34m(session, sock_info, retryable_write)\u001b[0m\n\u001b[1;32m    595\u001b[0m     command[\u001b[38;5;124m'\u001b[39m\u001b[38;5;124mbypassDocumentValidation\u001b[39m\u001b[38;5;124m'\u001b[39m] \u001b[38;5;241m=\u001b[39m \u001b[38;5;28;01mTrue\u001b[39;00m\n\u001b[1;32m    597\u001b[0m result \u001b[38;5;241m=\u001b[39m sock_info\u001b[38;5;241m.\u001b[39mcommand(\n\u001b[1;32m    598\u001b[0m     \u001b[38;5;28mself\u001b[39m\u001b[38;5;241m.\u001b[39m__database\u001b[38;5;241m.\u001b[39mname,\n\u001b[1;32m    599\u001b[0m     command,\n\u001b[0;32m   (...)\u001b[0m\n\u001b[1;32m    604\u001b[0m     client\u001b[38;5;241m=\u001b[39m\u001b[38;5;28mself\u001b[39m\u001b[38;5;241m.\u001b[39m__database\u001b[38;5;241m.\u001b[39mclient,\n\u001b[1;32m    605\u001b[0m     retryable_write\u001b[38;5;241m=\u001b[39mretryable_write)\n\u001b[0;32m--> 607\u001b[0m \u001b[43m_check_write_command_response\u001b[49m\u001b[43m(\u001b[49m\u001b[43mresult\u001b[49m\u001b[43m)\u001b[49m\n",
      "File \u001b[0;32m~/opt/anaconda3/envs/test/lib/python3.9/site-packages/pymongo/helpers.py:229\u001b[0m, in \u001b[0;36m_check_write_command_response\u001b[0;34m(result)\u001b[0m\n\u001b[1;32m    227\u001b[0m write_errors \u001b[38;5;241m=\u001b[39m result\u001b[38;5;241m.\u001b[39mget(\u001b[38;5;124m\"\u001b[39m\u001b[38;5;124mwriteErrors\u001b[39m\u001b[38;5;124m\"\u001b[39m)\n\u001b[1;32m    228\u001b[0m \u001b[38;5;28;01mif\u001b[39;00m write_errors:\n\u001b[0;32m--> 229\u001b[0m     \u001b[43m_raise_last_write_error\u001b[49m\u001b[43m(\u001b[49m\u001b[43mwrite_errors\u001b[49m\u001b[43m)\u001b[49m\n\u001b[1;32m    231\u001b[0m error \u001b[38;5;241m=\u001b[39m result\u001b[38;5;241m.\u001b[39mget(\u001b[38;5;124m\"\u001b[39m\u001b[38;5;124mwriteConcernError\u001b[39m\u001b[38;5;124m\"\u001b[39m)\n\u001b[1;32m    232\u001b[0m \u001b[38;5;28;01mif\u001b[39;00m error:\n",
      "File \u001b[0;32m~/opt/anaconda3/envs/test/lib/python3.9/site-packages/pymongo/helpers.py:210\u001b[0m, in \u001b[0;36m_raise_last_write_error\u001b[0;34m(write_errors)\u001b[0m\n\u001b[1;32m    208\u001b[0m error \u001b[38;5;241m=\u001b[39m write_errors[\u001b[38;5;241m-\u001b[39m\u001b[38;5;241m1\u001b[39m]\n\u001b[1;32m    209\u001b[0m \u001b[38;5;28;01mif\u001b[39;00m error\u001b[38;5;241m.\u001b[39mget(\u001b[38;5;124m\"\u001b[39m\u001b[38;5;124mcode\u001b[39m\u001b[38;5;124m\"\u001b[39m) \u001b[38;5;241m==\u001b[39m \u001b[38;5;241m11000\u001b[39m:\n\u001b[0;32m--> 210\u001b[0m     \u001b[38;5;28;01mraise\u001b[39;00m DuplicateKeyError(error\u001b[38;5;241m.\u001b[39mget(\u001b[38;5;124m\"\u001b[39m\u001b[38;5;124merrmsg\u001b[39m\u001b[38;5;124m\"\u001b[39m), \u001b[38;5;241m11000\u001b[39m, error)\n\u001b[1;32m    211\u001b[0m \u001b[38;5;28;01mraise\u001b[39;00m WriteError(error\u001b[38;5;241m.\u001b[39mget(\u001b[38;5;124m\"\u001b[39m\u001b[38;5;124merrmsg\u001b[39m\u001b[38;5;124m\"\u001b[39m), error\u001b[38;5;241m.\u001b[39mget(\u001b[38;5;124m\"\u001b[39m\u001b[38;5;124mcode\u001b[39m\u001b[38;5;124m\"\u001b[39m), error)\n",
      "\u001b[0;31mDuplicateKeyError\u001b[0m: E11000 duplicate key error collection: mydatabase.customers index: _id_ dup key: { _id: 14 }, full error: {'index': 0, 'code': 11000, 'errmsg': 'E11000 duplicate key error collection: mydatabase.customers index: _id_ dup key: { _id: 14 }', 'keyPattern': {'_id': 1}, 'keyValue': {'_id': 14}}"
     ]
    }
   ],
   "source": [
    "x = mycol.insert_one({ \"_id\": 14, \"name\": \"Manuel\", \"address\": \"Barcelona\"})"
   ]
  },
  {
   "cell_type": "code",
   "execution_count": 139,
   "metadata": {},
   "outputs": [
    {
     "name": "stdout",
     "output_type": "stream",
     "text": [
      "{'_id': 15, 'name': 'Manuel', 'address': 'Barcelona'}\n"
     ]
    }
   ],
   "source": [
    "x = mycol.find_one({\"name\": \"Manuel\"})\n",
    "print(x)"
   ]
  },
  {
   "cell_type": "markdown",
   "metadata": {
    "id": "3CKpbRGDB_cb"
   },
   "source": [
    "So, if we want to manage `_id`s in code, we need to be careful!"
   ]
  },
  {
   "cell_type": "markdown",
   "metadata": {
    "id": "eAyExvFAB_cc"
   },
   "source": [
    "This returns the first document in the collection:"
   ]
  },
  {
   "cell_type": "code",
   "execution_count": 140,
   "metadata": {
    "id": "YzXmhIr4B_cc"
   },
   "outputs": [
    {
     "name": "stdout",
     "output_type": "stream",
     "text": [
      "{'_id': ObjectId('63e0ae4623f85a2d0aea2a2b'), 'name': 'John', 'address': 'Highway 37'}\n"
     ]
    }
   ],
   "source": [
    "x = mycol.find_one()\n",
    "print(x)"
   ]
  },
  {
   "cell_type": "markdown",
   "metadata": {
    "id": "GWSokljaB_ce"
   },
   "source": [
    "Do the same for the document containing \"name\" = \"Hannah\":"
   ]
  },
  {
   "cell_type": "code",
   "execution_count": 141,
   "metadata": {
    "id": "cA5k8a_dB_cf"
   },
   "outputs": [
    {
     "name": "stdout",
     "output_type": "stream",
     "text": [
      "{'_id': ObjectId('63e0be2123f85a2d0aea2a40'), 'name': 'Hannah', 'address': 'Mountain 21'}\n"
     ]
    }
   ],
   "source": [
    "#ANSWER:\n",
    "x = mycol.find_one({\"name\": \"Hannah\"})\n",
    "print(x)"
   ]
  },
  {
   "cell_type": "markdown",
   "metadata": {
    "id": "DFCVFHu7B_ch"
   },
   "source": [
    "This returns (and prints) all documents in the collection:"
   ]
  },
  {
   "cell_type": "code",
   "execution_count": 142,
   "metadata": {
    "id": "UXVB_CSMB_ch"
   },
   "outputs": [
    {
     "name": "stdout",
     "output_type": "stream",
     "text": [
      "{'_id': ObjectId('63e0ae4623f85a2d0aea2a2b'), 'name': 'John', 'address': 'Highway 37'}\n",
      "{'_id': ObjectId('63e0ae6e23f85a2d0aea2a2c'), 'name': 'Peter', 'address': 'Lowstreet 27'}\n",
      "{'_id': ObjectId('63e0ae7a23f85a2d0aea2a2d'), 'name': 'Amy', 'address': 'Apple st 652'}\n",
      "{'_id': ObjectId('63e0ae7a23f85a2d0aea2a2f'), 'name': 'Michael', 'address': 'Canyon 123'}\n",
      "{'_id': ObjectId('63e0ae7a23f85a2d0aea2a30'), 'name': 'Sandy', 'address': 'Ocean blvd 2'}\n",
      "{'_id': ObjectId('63e0ae7a23f85a2d0aea2a31'), 'name': 'Betty', 'address': 'Green Grass 1'}\n",
      "{'_id': ObjectId('63e0ae7a23f85a2d0aea2a32'), 'name': 'Richard', 'address': 'Sky st 331'}\n",
      "{'_id': ObjectId('63e0ae7a23f85a2d0aea2a33'), 'name': 'Susan', 'address': 'One way 98'}\n",
      "{'_id': ObjectId('63e0ae7a23f85a2d0aea2a34'), 'name': 'Vicky', 'address': 'Yellow Garden 2'}\n",
      "{'_id': ObjectId('63e0ae7a23f85a2d0aea2a35'), 'name': 'Ben', 'address': 'Park Lane 38'}\n",
      "{'_id': ObjectId('63e0ae7a23f85a2d0aea2a36'), 'name': 'William', 'address': 'Central st 954'}\n",
      "{'_id': ObjectId('63e0ae7a23f85a2d0aea2a37'), 'name': 'Chuck', 'address': 'Main Road 989'}\n",
      "{'_id': ObjectId('63e0ae7a23f85a2d0aea2a38'), 'name': 'Viola', 'address': 'Sideway 1633'}\n",
      "{'_id': 15, 'name': 'Manuel', 'address': 'Barcelona'}\n",
      "{'_id': ObjectId('63e0b6b223f85a2d0aea2a39'), 'name': 'John', 'address': 'Highway 37'}\n",
      "{'_id': ObjectId('63e0b6e723f85a2d0aea2a3a'), 'name': 'John', 'address': 'Highway 37'}\n",
      "{'_id': ObjectId('63e0bc1323f85a2d0aea2a3b'), 'name': 'John', 'address': 'Highway 37'}\n",
      "{'_id': ObjectId('63e0be0c23f85a2d0aea2a3d'), 'name': 'John', 'address': 'Highway 37'}\n",
      "{'_id': ObjectId('63e0be1123f85a2d0aea2a3e'), 'name': 'Peter', 'address': 'Lowstreet 27'}\n",
      "{'_id': ObjectId('63e0be2123f85a2d0aea2a3f'), 'name': 'Amy', 'address': 'Apple st 652'}\n",
      "{'_id': ObjectId('63e0be2123f85a2d0aea2a40'), 'name': 'Hannah', 'address': 'Mountain 21'}\n",
      "{'_id': ObjectId('63e0be2123f85a2d0aea2a41'), 'name': 'Michael', 'address': 'Valley 345'}\n",
      "{'_id': ObjectId('63e0be2123f85a2d0aea2a42'), 'name': 'Sandy', 'address': 'Ocean blvd 2'}\n",
      "{'_id': ObjectId('63e0be2123f85a2d0aea2a43'), 'name': 'Betty', 'address': 'Green Grass 1'}\n",
      "{'_id': ObjectId('63e0be2123f85a2d0aea2a44'), 'name': 'Richard', 'address': 'Sky st 331'}\n",
      "{'_id': ObjectId('63e0be2123f85a2d0aea2a45'), 'name': 'Susan', 'address': 'One way 98'}\n",
      "{'_id': ObjectId('63e0be2123f85a2d0aea2a46'), 'name': 'Vicky', 'address': 'Yellow Garden 2'}\n",
      "{'_id': ObjectId('63e0be2123f85a2d0aea2a47'), 'name': 'Ben', 'address': 'Park Lane 38'}\n",
      "{'_id': ObjectId('63e0be2123f85a2d0aea2a48'), 'name': 'William', 'address': 'Central st 954'}\n",
      "{'_id': ObjectId('63e0be2123f85a2d0aea2a49'), 'name': 'Chuck', 'address': 'Main Road 989'}\n",
      "{'_id': ObjectId('63e0be2123f85a2d0aea2a4a'), 'name': 'Viola', 'address': 'Sideway 1633'}\n",
      "{'_id': 1, 'name': 'John', 'address': 'Highway 37'}\n",
      "{'_id': 2, 'name': 'Peter', 'address': 'Lowstreet 27'}\n",
      "{'_id': 3, 'name': 'Amy', 'address': 'Apple st 652'}\n",
      "{'_id': 4, 'name': 'Hannah', 'address': 'Mountain 21'}\n",
      "{'_id': 5, 'name': 'Michael', 'address': 'Valley 345'}\n",
      "{'_id': 6, 'name': 'Sandy', 'address': 'Ocean blvd 2'}\n",
      "{'_id': 7, 'name': 'Betty', 'address': 'Green Grass 1'}\n",
      "{'_id': 8, 'name': 'Richard', 'address': 'Sky st 331'}\n",
      "{'_id': 9, 'name': 'Susan', 'address': 'One way 98'}\n",
      "{'_id': 10, 'name': 'Vicky', 'address': 'Yellow Garden 2'}\n",
      "{'_id': 11, 'name': 'Ben', 'address': 'Park Lane 38'}\n",
      "{'_id': 12, 'name': 'William', 'address': 'Central st 954'}\n",
      "{'_id': 13, 'name': 'Chuck', 'address': 'Main Road 989'}\n",
      "{'_id': 14, 'name': 'Viola', 'address': 'Sideway 1633'}\n"
     ]
    }
   ],
   "source": [
    "for x in mycol.find():\n",
    "  print(x)"
   ]
  },
  {
   "cell_type": "markdown",
   "metadata": {
    "id": "6dQsHIF6B_cj"
   },
   "source": [
    "This returns only the name and address fields:"
   ]
  },
  {
   "cell_type": "code",
   "execution_count": 143,
   "metadata": {
    "id": "OKY_Buz0B_ck"
   },
   "outputs": [
    {
     "name": "stdout",
     "output_type": "stream",
     "text": [
      "{'name': 'John', 'address': 'Highway 37'}\n",
      "{'name': 'Peter', 'address': 'Lowstreet 27'}\n",
      "{'name': 'Amy', 'address': 'Apple st 652'}\n",
      "{'name': 'Michael', 'address': 'Canyon 123'}\n",
      "{'name': 'Sandy', 'address': 'Ocean blvd 2'}\n",
      "{'name': 'Betty', 'address': 'Green Grass 1'}\n",
      "{'name': 'Richard', 'address': 'Sky st 331'}\n",
      "{'name': 'Susan', 'address': 'One way 98'}\n",
      "{'name': 'Vicky', 'address': 'Yellow Garden 2'}\n",
      "{'name': 'Ben', 'address': 'Park Lane 38'}\n",
      "{'name': 'William', 'address': 'Central st 954'}\n",
      "{'name': 'Chuck', 'address': 'Main Road 989'}\n",
      "{'name': 'Viola', 'address': 'Sideway 1633'}\n",
      "{'name': 'Manuel', 'address': 'Barcelona'}\n",
      "{'name': 'John', 'address': 'Highway 37'}\n",
      "{'name': 'John', 'address': 'Highway 37'}\n",
      "{'name': 'John', 'address': 'Highway 37'}\n",
      "{'name': 'John', 'address': 'Highway 37'}\n",
      "{'name': 'Peter', 'address': 'Lowstreet 27'}\n",
      "{'name': 'Amy', 'address': 'Apple st 652'}\n",
      "{'name': 'Hannah', 'address': 'Mountain 21'}\n",
      "{'name': 'Michael', 'address': 'Valley 345'}\n",
      "{'name': 'Sandy', 'address': 'Ocean blvd 2'}\n",
      "{'name': 'Betty', 'address': 'Green Grass 1'}\n",
      "{'name': 'Richard', 'address': 'Sky st 331'}\n",
      "{'name': 'Susan', 'address': 'One way 98'}\n",
      "{'name': 'Vicky', 'address': 'Yellow Garden 2'}\n",
      "{'name': 'Ben', 'address': 'Park Lane 38'}\n",
      "{'name': 'William', 'address': 'Central st 954'}\n",
      "{'name': 'Chuck', 'address': 'Main Road 989'}\n",
      "{'name': 'Viola', 'address': 'Sideway 1633'}\n",
      "{'name': 'John', 'address': 'Highway 37'}\n",
      "{'name': 'Peter', 'address': 'Lowstreet 27'}\n",
      "{'name': 'Amy', 'address': 'Apple st 652'}\n",
      "{'name': 'Hannah', 'address': 'Mountain 21'}\n",
      "{'name': 'Michael', 'address': 'Valley 345'}\n",
      "{'name': 'Sandy', 'address': 'Ocean blvd 2'}\n",
      "{'name': 'Betty', 'address': 'Green Grass 1'}\n",
      "{'name': 'Richard', 'address': 'Sky st 331'}\n",
      "{'name': 'Susan', 'address': 'One way 98'}\n",
      "{'name': 'Vicky', 'address': 'Yellow Garden 2'}\n",
      "{'name': 'Ben', 'address': 'Park Lane 38'}\n",
      "{'name': 'William', 'address': 'Central st 954'}\n",
      "{'name': 'Chuck', 'address': 'Main Road 989'}\n",
      "{'name': 'Viola', 'address': 'Sideway 1633'}\n"
     ]
    }
   ],
   "source": [
    "for x in mycol.find({},{ \"_id\": 0, \"name\": 1, \"address\": 1 }):\n",
    "  print(x)"
   ]
  },
  {
   "cell_type": "markdown",
   "metadata": {
    "id": "9jAQ7LAdB_cm"
   },
   "source": [
    "Print only the `_id` and name fields:"
   ]
  },
  {
   "cell_type": "code",
   "execution_count": 144,
   "metadata": {
    "id": "FP14yQUQB_cn"
   },
   "outputs": [
    {
     "name": "stdout",
     "output_type": "stream",
     "text": [
      "{'_id': ObjectId('63e0ae4623f85a2d0aea2a2b'), 'name': 'John'}\n",
      "{'_id': ObjectId('63e0ae6e23f85a2d0aea2a2c'), 'name': 'Peter'}\n",
      "{'_id': ObjectId('63e0ae7a23f85a2d0aea2a2d'), 'name': 'Amy'}\n",
      "{'_id': ObjectId('63e0ae7a23f85a2d0aea2a2f'), 'name': 'Michael'}\n",
      "{'_id': ObjectId('63e0ae7a23f85a2d0aea2a30'), 'name': 'Sandy'}\n",
      "{'_id': ObjectId('63e0ae7a23f85a2d0aea2a31'), 'name': 'Betty'}\n",
      "{'_id': ObjectId('63e0ae7a23f85a2d0aea2a32'), 'name': 'Richard'}\n",
      "{'_id': ObjectId('63e0ae7a23f85a2d0aea2a33'), 'name': 'Susan'}\n",
      "{'_id': ObjectId('63e0ae7a23f85a2d0aea2a34'), 'name': 'Vicky'}\n",
      "{'_id': ObjectId('63e0ae7a23f85a2d0aea2a35'), 'name': 'Ben'}\n",
      "{'_id': ObjectId('63e0ae7a23f85a2d0aea2a36'), 'name': 'William'}\n",
      "{'_id': ObjectId('63e0ae7a23f85a2d0aea2a37'), 'name': 'Chuck'}\n",
      "{'_id': ObjectId('63e0ae7a23f85a2d0aea2a38'), 'name': 'Viola'}\n",
      "{'_id': 15, 'name': 'Manuel'}\n",
      "{'_id': ObjectId('63e0b6b223f85a2d0aea2a39'), 'name': 'John'}\n",
      "{'_id': ObjectId('63e0b6e723f85a2d0aea2a3a'), 'name': 'John'}\n",
      "{'_id': ObjectId('63e0bc1323f85a2d0aea2a3b'), 'name': 'John'}\n",
      "{'_id': ObjectId('63e0be0c23f85a2d0aea2a3d'), 'name': 'John'}\n",
      "{'_id': ObjectId('63e0be1123f85a2d0aea2a3e'), 'name': 'Peter'}\n",
      "{'_id': ObjectId('63e0be2123f85a2d0aea2a3f'), 'name': 'Amy'}\n",
      "{'_id': ObjectId('63e0be2123f85a2d0aea2a40'), 'name': 'Hannah'}\n",
      "{'_id': ObjectId('63e0be2123f85a2d0aea2a41'), 'name': 'Michael'}\n",
      "{'_id': ObjectId('63e0be2123f85a2d0aea2a42'), 'name': 'Sandy'}\n",
      "{'_id': ObjectId('63e0be2123f85a2d0aea2a43'), 'name': 'Betty'}\n",
      "{'_id': ObjectId('63e0be2123f85a2d0aea2a44'), 'name': 'Richard'}\n",
      "{'_id': ObjectId('63e0be2123f85a2d0aea2a45'), 'name': 'Susan'}\n",
      "{'_id': ObjectId('63e0be2123f85a2d0aea2a46'), 'name': 'Vicky'}\n",
      "{'_id': ObjectId('63e0be2123f85a2d0aea2a47'), 'name': 'Ben'}\n",
      "{'_id': ObjectId('63e0be2123f85a2d0aea2a48'), 'name': 'William'}\n",
      "{'_id': ObjectId('63e0be2123f85a2d0aea2a49'), 'name': 'Chuck'}\n",
      "{'_id': ObjectId('63e0be2123f85a2d0aea2a4a'), 'name': 'Viola'}\n",
      "{'_id': 1, 'name': 'John'}\n",
      "{'_id': 2, 'name': 'Peter'}\n",
      "{'_id': 3, 'name': 'Amy'}\n",
      "{'_id': 4, 'name': 'Hannah'}\n",
      "{'_id': 5, 'name': 'Michael'}\n",
      "{'_id': 6, 'name': 'Sandy'}\n",
      "{'_id': 7, 'name': 'Betty'}\n",
      "{'_id': 8, 'name': 'Richard'}\n",
      "{'_id': 9, 'name': 'Susan'}\n",
      "{'_id': 10, 'name': 'Vicky'}\n",
      "{'_id': 11, 'name': 'Ben'}\n",
      "{'_id': 12, 'name': 'William'}\n",
      "{'_id': 13, 'name': 'Chuck'}\n",
      "{'_id': 14, 'name': 'Viola'}\n"
     ]
    }
   ],
   "source": [
    "#ANSWER:\n",
    "for x in mycol.find({},{ \"_id\": 1, \"name\": 1 }):\n",
    "  print(x)"
   ]
  },
  {
   "cell_type": "markdown",
   "metadata": {
    "id": "esHLntbmB_cp"
   },
   "source": [
    "So, we must explicitly use `\"_id\": 0` to exclude it, but for other fields we simply omit them from the dict argument."
   ]
  },
  {
   "cell_type": "markdown",
   "metadata": {
    "id": "hSOdFGEpB_cq"
   },
   "source": [
    "To include field conditionals in a query, we use `$` operators. This finds addresses starting with \"S\" or greater:"
   ]
  },
  {
   "cell_type": "code",
   "execution_count": 145,
   "metadata": {
    "id": "KaHOWDwkB_cq"
   },
   "outputs": [
    {
     "name": "stdout",
     "output_type": "stream",
     "text": [
      "{'_id': ObjectId('63e0ae7a23f85a2d0aea2a32'), 'name': 'Richard', 'address': 'Sky st 331'}\n",
      "{'_id': ObjectId('63e0ae7a23f85a2d0aea2a34'), 'name': 'Vicky', 'address': 'Yellow Garden 2'}\n",
      "{'_id': ObjectId('63e0ae7a23f85a2d0aea2a38'), 'name': 'Viola', 'address': 'Sideway 1633'}\n",
      "{'_id': ObjectId('63e0be2123f85a2d0aea2a41'), 'name': 'Michael', 'address': 'Valley 345'}\n",
      "{'_id': ObjectId('63e0be2123f85a2d0aea2a44'), 'name': 'Richard', 'address': 'Sky st 331'}\n",
      "{'_id': ObjectId('63e0be2123f85a2d0aea2a46'), 'name': 'Vicky', 'address': 'Yellow Garden 2'}\n",
      "{'_id': ObjectId('63e0be2123f85a2d0aea2a4a'), 'name': 'Viola', 'address': 'Sideway 1633'}\n",
      "{'_id': 5, 'name': 'Michael', 'address': 'Valley 345'}\n",
      "{'_id': 8, 'name': 'Richard', 'address': 'Sky st 331'}\n",
      "{'_id': 10, 'name': 'Vicky', 'address': 'Yellow Garden 2'}\n",
      "{'_id': 14, 'name': 'Viola', 'address': 'Sideway 1633'}\n"
     ]
    }
   ],
   "source": [
    "myquery = { \"address\": { \"$gt\": \"S\" } }\n",
    "mydoc = mycol.find(myquery)\n",
    "for x in mydoc:\n",
    "  print(x)"
   ]
  },
  {
   "cell_type": "markdown",
   "metadata": {
    "id": "i3fUXWpiB_cs"
   },
   "source": [
    "Here are some more comparison operators:\n",
    "\n",
    "            $gt, $gte, $eq, $in, $nin, $exists, $and, $or, $not\n",
    "            \n",
    "Experiment with these until you understand how to use them."
   ]
  },
  {
   "cell_type": "code",
   "execution_count": 146,
   "metadata": {
    "id": "ensDpd9VB_ct"
   },
   "outputs": [
    {
     "name": "stdout",
     "output_type": "stream",
     "text": [
      "{'_id': ObjectId('63e0ae6e23f85a2d0aea2a2c'), 'name': 'Peter', 'address': 'Lowstreet 27'}\n",
      "{'_id': ObjectId('63e0ae7a23f85a2d0aea2a30'), 'name': 'Sandy', 'address': 'Ocean blvd 2'}\n",
      "{'_id': ObjectId('63e0ae7a23f85a2d0aea2a32'), 'name': 'Richard', 'address': 'Sky st 331'}\n",
      "{'_id': ObjectId('63e0ae7a23f85a2d0aea2a33'), 'name': 'Susan', 'address': 'One way 98'}\n",
      "{'_id': ObjectId('63e0ae7a23f85a2d0aea2a34'), 'name': 'Vicky', 'address': 'Yellow Garden 2'}\n",
      "{'_id': ObjectId('63e0ae7a23f85a2d0aea2a36'), 'name': 'William', 'address': 'Central st 954'}\n",
      "{'_id': ObjectId('63e0ae7a23f85a2d0aea2a38'), 'name': 'Viola', 'address': 'Sideway 1633'}\n",
      "{'_id': ObjectId('63e0be1123f85a2d0aea2a3e'), 'name': 'Peter', 'address': 'Lowstreet 27'}\n",
      "{'_id': ObjectId('63e0be2123f85a2d0aea2a42'), 'name': 'Sandy', 'address': 'Ocean blvd 2'}\n",
      "{'_id': ObjectId('63e0be2123f85a2d0aea2a44'), 'name': 'Richard', 'address': 'Sky st 331'}\n",
      "{'_id': ObjectId('63e0be2123f85a2d0aea2a45'), 'name': 'Susan', 'address': 'One way 98'}\n",
      "{'_id': ObjectId('63e0be2123f85a2d0aea2a46'), 'name': 'Vicky', 'address': 'Yellow Garden 2'}\n",
      "{'_id': ObjectId('63e0be2123f85a2d0aea2a48'), 'name': 'William', 'address': 'Central st 954'}\n",
      "{'_id': ObjectId('63e0be2123f85a2d0aea2a4a'), 'name': 'Viola', 'address': 'Sideway 1633'}\n",
      "{'_id': 2, 'name': 'Peter', 'address': 'Lowstreet 27'}\n",
      "{'_id': 6, 'name': 'Sandy', 'address': 'Ocean blvd 2'}\n",
      "{'_id': 8, 'name': 'Richard', 'address': 'Sky st 331'}\n",
      "{'_id': 9, 'name': 'Susan', 'address': 'One way 98'}\n",
      "{'_id': 10, 'name': 'Vicky', 'address': 'Yellow Garden 2'}\n",
      "{'_id': 12, 'name': 'William', 'address': 'Central st 954'}\n",
      "{'_id': 14, 'name': 'Viola', 'address': 'Sideway 1633'}\n"
     ]
    }
   ],
   "source": [
    "myquery = { \"name\": { \"$gte\": \"P\" } }\n",
    "mydoc = mycol.find(myquery)\n",
    "for x in mydoc:\n",
    "  print(x)"
   ]
  },
  {
   "cell_type": "markdown",
   "metadata": {
    "id": "IxvWRoS3B_cu"
   },
   "source": [
    "Now find all docs with an address that begins with \"S\":  \n",
    "(HINT: The value for \"address\" in the argument should be the regex-based dict { \"$regex\": \"^S\" }.)"
   ]
  },
  {
   "cell_type": "code",
   "execution_count": 147,
   "metadata": {
    "id": "i5zMYTsdB_cu"
   },
   "outputs": [
    {
     "name": "stdout",
     "output_type": "stream",
     "text": [
      "{'_id': ObjectId('63e0ae7a23f85a2d0aea2a32'), 'name': 'Richard', 'address': 'Sky st 331'}\n",
      "{'_id': ObjectId('63e0ae7a23f85a2d0aea2a38'), 'name': 'Viola', 'address': 'Sideway 1633'}\n",
      "{'_id': ObjectId('63e0be2123f85a2d0aea2a44'), 'name': 'Richard', 'address': 'Sky st 331'}\n",
      "{'_id': ObjectId('63e0be2123f85a2d0aea2a4a'), 'name': 'Viola', 'address': 'Sideway 1633'}\n",
      "{'_id': 8, 'name': 'Richard', 'address': 'Sky st 331'}\n",
      "{'_id': 14, 'name': 'Viola', 'address': 'Sideway 1633'}\n"
     ]
    }
   ],
   "source": [
    "#ANSWER:\n",
    "myquery = { \"address\": { \"$regex\": \"^S\" } }\n",
    "mydoc = mycol.find(myquery)\n",
    "for x in mydoc:\n",
    "  print(x)"
   ]
  },
  {
   "cell_type": "markdown",
   "metadata": {
    "id": "B1W9jlEnB_cw"
   },
   "source": [
    "Sorting can be applied by invoking the Sort() method after the Find() method. Sort the collection by the name field:"
   ]
  },
  {
   "cell_type": "code",
   "execution_count": 148,
   "metadata": {
    "id": "fzxxFYrtB_cw"
   },
   "outputs": [
    {
     "name": "stdout",
     "output_type": "stream",
     "text": [
      "{'_id': ObjectId('63e0ae7a23f85a2d0aea2a2d'), 'name': 'Amy', 'address': 'Apple st 652'}\n",
      "{'_id': ObjectId('63e0be2123f85a2d0aea2a3f'), 'name': 'Amy', 'address': 'Apple st 652'}\n",
      "{'_id': 3, 'name': 'Amy', 'address': 'Apple st 652'}\n",
      "{'_id': ObjectId('63e0ae7a23f85a2d0aea2a35'), 'name': 'Ben', 'address': 'Park Lane 38'}\n",
      "{'_id': ObjectId('63e0be2123f85a2d0aea2a47'), 'name': 'Ben', 'address': 'Park Lane 38'}\n",
      "{'_id': 11, 'name': 'Ben', 'address': 'Park Lane 38'}\n",
      "{'_id': ObjectId('63e0ae7a23f85a2d0aea2a31'), 'name': 'Betty', 'address': 'Green Grass 1'}\n",
      "{'_id': ObjectId('63e0be2123f85a2d0aea2a43'), 'name': 'Betty', 'address': 'Green Grass 1'}\n",
      "{'_id': 7, 'name': 'Betty', 'address': 'Green Grass 1'}\n",
      "{'_id': ObjectId('63e0ae7a23f85a2d0aea2a37'), 'name': 'Chuck', 'address': 'Main Road 989'}\n",
      "{'_id': ObjectId('63e0be2123f85a2d0aea2a49'), 'name': 'Chuck', 'address': 'Main Road 989'}\n",
      "{'_id': 13, 'name': 'Chuck', 'address': 'Main Road 989'}\n",
      "{'_id': ObjectId('63e0be2123f85a2d0aea2a40'), 'name': 'Hannah', 'address': 'Mountain 21'}\n",
      "{'_id': 4, 'name': 'Hannah', 'address': 'Mountain 21'}\n",
      "{'_id': ObjectId('63e0ae4623f85a2d0aea2a2b'), 'name': 'John', 'address': 'Highway 37'}\n",
      "{'_id': ObjectId('63e0b6b223f85a2d0aea2a39'), 'name': 'John', 'address': 'Highway 37'}\n",
      "{'_id': ObjectId('63e0b6e723f85a2d0aea2a3a'), 'name': 'John', 'address': 'Highway 37'}\n",
      "{'_id': ObjectId('63e0bc1323f85a2d0aea2a3b'), 'name': 'John', 'address': 'Highway 37'}\n",
      "{'_id': ObjectId('63e0be0c23f85a2d0aea2a3d'), 'name': 'John', 'address': 'Highway 37'}\n",
      "{'_id': 1, 'name': 'John', 'address': 'Highway 37'}\n",
      "{'_id': 15, 'name': 'Manuel', 'address': 'Barcelona'}\n",
      "{'_id': ObjectId('63e0ae7a23f85a2d0aea2a2f'), 'name': 'Michael', 'address': 'Canyon 123'}\n",
      "{'_id': ObjectId('63e0be2123f85a2d0aea2a41'), 'name': 'Michael', 'address': 'Valley 345'}\n",
      "{'_id': 5, 'name': 'Michael', 'address': 'Valley 345'}\n",
      "{'_id': ObjectId('63e0ae6e23f85a2d0aea2a2c'), 'name': 'Peter', 'address': 'Lowstreet 27'}\n",
      "{'_id': ObjectId('63e0be1123f85a2d0aea2a3e'), 'name': 'Peter', 'address': 'Lowstreet 27'}\n",
      "{'_id': 2, 'name': 'Peter', 'address': 'Lowstreet 27'}\n",
      "{'_id': ObjectId('63e0ae7a23f85a2d0aea2a32'), 'name': 'Richard', 'address': 'Sky st 331'}\n",
      "{'_id': ObjectId('63e0be2123f85a2d0aea2a44'), 'name': 'Richard', 'address': 'Sky st 331'}\n",
      "{'_id': 8, 'name': 'Richard', 'address': 'Sky st 331'}\n",
      "{'_id': ObjectId('63e0ae7a23f85a2d0aea2a30'), 'name': 'Sandy', 'address': 'Ocean blvd 2'}\n",
      "{'_id': ObjectId('63e0be2123f85a2d0aea2a42'), 'name': 'Sandy', 'address': 'Ocean blvd 2'}\n",
      "{'_id': 6, 'name': 'Sandy', 'address': 'Ocean blvd 2'}\n",
      "{'_id': ObjectId('63e0ae7a23f85a2d0aea2a33'), 'name': 'Susan', 'address': 'One way 98'}\n",
      "{'_id': ObjectId('63e0be2123f85a2d0aea2a45'), 'name': 'Susan', 'address': 'One way 98'}\n",
      "{'_id': 9, 'name': 'Susan', 'address': 'One way 98'}\n",
      "{'_id': ObjectId('63e0ae7a23f85a2d0aea2a34'), 'name': 'Vicky', 'address': 'Yellow Garden 2'}\n",
      "{'_id': ObjectId('63e0be2123f85a2d0aea2a46'), 'name': 'Vicky', 'address': 'Yellow Garden 2'}\n",
      "{'_id': 10, 'name': 'Vicky', 'address': 'Yellow Garden 2'}\n",
      "{'_id': ObjectId('63e0ae7a23f85a2d0aea2a38'), 'name': 'Viola', 'address': 'Sideway 1633'}\n",
      "{'_id': ObjectId('63e0be2123f85a2d0aea2a4a'), 'name': 'Viola', 'address': 'Sideway 1633'}\n",
      "{'_id': 14, 'name': 'Viola', 'address': 'Sideway 1633'}\n",
      "{'_id': ObjectId('63e0ae7a23f85a2d0aea2a36'), 'name': 'William', 'address': 'Central st 954'}\n",
      "{'_id': ObjectId('63e0be2123f85a2d0aea2a48'), 'name': 'William', 'address': 'Central st 954'}\n",
      "{'_id': 12, 'name': 'William', 'address': 'Central st 954'}\n"
     ]
    }
   ],
   "source": [
    "#ANSWER:\n",
    "mydoc = mycol.find().sort(\"name\")\n",
    "for x in mydoc:\n",
    "  print(x)"
   ]
  },
  {
   "cell_type": "markdown",
   "metadata": {
    "id": "esbldZv0B_cx"
   },
   "source": [
    "Now sort in reverse order (HINT: The Sort() method takes an optional second parameter.)"
   ]
  },
  {
   "cell_type": "code",
   "execution_count": 149,
   "metadata": {},
   "outputs": [
    {
     "name": "stdout",
     "output_type": "stream",
     "text": [
      "{'_id': ObjectId('63e0ae7a23f85a2d0aea2a36'), 'name': 'William', 'address': 'Central st 954'}\n",
      "{'_id': ObjectId('63e0be2123f85a2d0aea2a48'), 'name': 'William', 'address': 'Central st 954'}\n",
      "{'_id': 12, 'name': 'William', 'address': 'Central st 954'}\n",
      "{'_id': ObjectId('63e0ae7a23f85a2d0aea2a38'), 'name': 'Viola', 'address': 'Sideway 1633'}\n",
      "{'_id': ObjectId('63e0be2123f85a2d0aea2a4a'), 'name': 'Viola', 'address': 'Sideway 1633'}\n",
      "{'_id': 14, 'name': 'Viola', 'address': 'Sideway 1633'}\n",
      "{'_id': ObjectId('63e0ae7a23f85a2d0aea2a34'), 'name': 'Vicky', 'address': 'Yellow Garden 2'}\n",
      "{'_id': ObjectId('63e0be2123f85a2d0aea2a46'), 'name': 'Vicky', 'address': 'Yellow Garden 2'}\n",
      "{'_id': 10, 'name': 'Vicky', 'address': 'Yellow Garden 2'}\n",
      "{'_id': ObjectId('63e0ae7a23f85a2d0aea2a33'), 'name': 'Susan', 'address': 'One way 98'}\n",
      "{'_id': ObjectId('63e0be2123f85a2d0aea2a45'), 'name': 'Susan', 'address': 'One way 98'}\n",
      "{'_id': 9, 'name': 'Susan', 'address': 'One way 98'}\n",
      "{'_id': ObjectId('63e0ae7a23f85a2d0aea2a30'), 'name': 'Sandy', 'address': 'Ocean blvd 2'}\n",
      "{'_id': ObjectId('63e0be2123f85a2d0aea2a42'), 'name': 'Sandy', 'address': 'Ocean blvd 2'}\n",
      "{'_id': 6, 'name': 'Sandy', 'address': 'Ocean blvd 2'}\n",
      "{'_id': ObjectId('63e0ae7a23f85a2d0aea2a32'), 'name': 'Richard', 'address': 'Sky st 331'}\n",
      "{'_id': ObjectId('63e0be2123f85a2d0aea2a44'), 'name': 'Richard', 'address': 'Sky st 331'}\n",
      "{'_id': 8, 'name': 'Richard', 'address': 'Sky st 331'}\n",
      "{'_id': ObjectId('63e0ae6e23f85a2d0aea2a2c'), 'name': 'Peter', 'address': 'Lowstreet 27'}\n",
      "{'_id': ObjectId('63e0be1123f85a2d0aea2a3e'), 'name': 'Peter', 'address': 'Lowstreet 27'}\n",
      "{'_id': 2, 'name': 'Peter', 'address': 'Lowstreet 27'}\n",
      "{'_id': ObjectId('63e0ae7a23f85a2d0aea2a2f'), 'name': 'Michael', 'address': 'Canyon 123'}\n",
      "{'_id': ObjectId('63e0be2123f85a2d0aea2a41'), 'name': 'Michael', 'address': 'Valley 345'}\n",
      "{'_id': 5, 'name': 'Michael', 'address': 'Valley 345'}\n",
      "{'_id': 15, 'name': 'Manuel', 'address': 'Barcelona'}\n",
      "{'_id': ObjectId('63e0ae4623f85a2d0aea2a2b'), 'name': 'John', 'address': 'Highway 37'}\n",
      "{'_id': ObjectId('63e0b6b223f85a2d0aea2a39'), 'name': 'John', 'address': 'Highway 37'}\n",
      "{'_id': ObjectId('63e0b6e723f85a2d0aea2a3a'), 'name': 'John', 'address': 'Highway 37'}\n",
      "{'_id': ObjectId('63e0bc1323f85a2d0aea2a3b'), 'name': 'John', 'address': 'Highway 37'}\n",
      "{'_id': ObjectId('63e0be0c23f85a2d0aea2a3d'), 'name': 'John', 'address': 'Highway 37'}\n",
      "{'_id': 1, 'name': 'John', 'address': 'Highway 37'}\n",
      "{'_id': ObjectId('63e0be2123f85a2d0aea2a40'), 'name': 'Hannah', 'address': 'Mountain 21'}\n",
      "{'_id': 4, 'name': 'Hannah', 'address': 'Mountain 21'}\n",
      "{'_id': ObjectId('63e0ae7a23f85a2d0aea2a37'), 'name': 'Chuck', 'address': 'Main Road 989'}\n",
      "{'_id': ObjectId('63e0be2123f85a2d0aea2a49'), 'name': 'Chuck', 'address': 'Main Road 989'}\n",
      "{'_id': 13, 'name': 'Chuck', 'address': 'Main Road 989'}\n",
      "{'_id': ObjectId('63e0ae7a23f85a2d0aea2a31'), 'name': 'Betty', 'address': 'Green Grass 1'}\n",
      "{'_id': ObjectId('63e0be2123f85a2d0aea2a43'), 'name': 'Betty', 'address': 'Green Grass 1'}\n",
      "{'_id': 7, 'name': 'Betty', 'address': 'Green Grass 1'}\n",
      "{'_id': ObjectId('63e0ae7a23f85a2d0aea2a35'), 'name': 'Ben', 'address': 'Park Lane 38'}\n",
      "{'_id': ObjectId('63e0be2123f85a2d0aea2a47'), 'name': 'Ben', 'address': 'Park Lane 38'}\n",
      "{'_id': 11, 'name': 'Ben', 'address': 'Park Lane 38'}\n",
      "{'_id': ObjectId('63e0ae7a23f85a2d0aea2a2d'), 'name': 'Amy', 'address': 'Apple st 652'}\n",
      "{'_id': ObjectId('63e0be2123f85a2d0aea2a3f'), 'name': 'Amy', 'address': 'Apple st 652'}\n",
      "{'_id': 3, 'name': 'Amy', 'address': 'Apple st 652'}\n"
     ]
    }
   ],
   "source": [
    "#ANSWER:\n",
    "mydoc = mycol.find().sort(\"name\", direction=pymongo.DESCENDING)\n",
    "for x in mydoc:\n",
    "  print(x)"
   ]
  },
  {
   "cell_type": "markdown",
   "metadata": {
    "id": "s0oVQyDGB_cy"
   },
   "source": [
    "A single record can be deleted by specifying some criterion:"
   ]
  },
  {
   "cell_type": "code",
   "execution_count": 150,
   "metadata": {
    "id": "8yxmQAs6B_cy"
   },
   "outputs": [
    {
     "data": {
      "text/plain": [
       "<pymongo.results.DeleteResult at 0x7fb8b97de780>"
      ]
     },
     "execution_count": 150,
     "metadata": {},
     "output_type": "execute_result"
    }
   ],
   "source": [
    "mycol.delete_one({ \"address\": \"Mountain 21\" })"
   ]
  },
  {
   "cell_type": "markdown",
   "metadata": {
    "id": "QqH7lF-uB_c0"
   },
   "source": [
    "Now delete all docs with the 2-digit `Id` values:"
   ]
  },
  {
   "cell_type": "code",
   "execution_count": 155,
   "metadata": {
    "id": "0pyYX1YUB_c0"
   },
   "outputs": [
    {
     "name": "stdout",
     "output_type": "stream",
     "text": [
      "{'_id': ObjectId('63e0ae4623f85a2d0aea2a2b'), 'name': 'John', 'address': 'Highway 37'}\n",
      "{'_id': ObjectId('63e0ae6e23f85a2d0aea2a2c'), 'name': 'Peter', 'address': 'Lowstreet 27'}\n",
      "{'_id': ObjectId('63e0ae7a23f85a2d0aea2a2d'), 'name': 'Amy', 'address': 'Apple st 652'}\n",
      "{'_id': ObjectId('63e0ae7a23f85a2d0aea2a2f'), 'name': 'Michael', 'address': 'Canyon 123'}\n",
      "{'_id': ObjectId('63e0ae7a23f85a2d0aea2a30'), 'name': 'Sandy', 'address': 'Ocean blvd 2'}\n",
      "{'_id': ObjectId('63e0ae7a23f85a2d0aea2a31'), 'name': 'Betty', 'address': 'Green Grass 1'}\n",
      "{'_id': ObjectId('63e0ae7a23f85a2d0aea2a32'), 'name': 'Richard', 'address': 'Sky st 331'}\n",
      "{'_id': ObjectId('63e0ae7a23f85a2d0aea2a33'), 'name': 'Susan', 'address': 'One way 98'}\n",
      "{'_id': ObjectId('63e0ae7a23f85a2d0aea2a34'), 'name': 'Vicky', 'address': 'Yellow Garden 2'}\n",
      "{'_id': ObjectId('63e0ae7a23f85a2d0aea2a35'), 'name': 'Ben', 'address': 'Park Lane 38'}\n",
      "{'_id': ObjectId('63e0ae7a23f85a2d0aea2a36'), 'name': 'William', 'address': 'Central st 954'}\n",
      "{'_id': ObjectId('63e0ae7a23f85a2d0aea2a37'), 'name': 'Chuck', 'address': 'Main Road 989'}\n",
      "{'_id': ObjectId('63e0ae7a23f85a2d0aea2a38'), 'name': 'Viola', 'address': 'Sideway 1633'}\n",
      "{'_id': 15, 'name': 'Manuel', 'address': 'Barcelona'}\n",
      "{'_id': ObjectId('63e0b6b223f85a2d0aea2a39'), 'name': 'John', 'address': 'Highway 37'}\n",
      "{'_id': ObjectId('63e0b6e723f85a2d0aea2a3a'), 'name': 'John', 'address': 'Highway 37'}\n",
      "{'_id': ObjectId('63e0bc1323f85a2d0aea2a3b'), 'name': 'John', 'address': 'Highway 37'}\n",
      "{'_id': ObjectId('63e0be0c23f85a2d0aea2a3d'), 'name': 'John', 'address': 'Highway 37'}\n",
      "{'_id': ObjectId('63e0be1123f85a2d0aea2a3e'), 'name': 'Peter', 'address': 'Lowstreet 27'}\n",
      "{'_id': ObjectId('63e0be2123f85a2d0aea2a3f'), 'name': 'Amy', 'address': 'Apple st 652'}\n",
      "{'_id': ObjectId('63e0be2123f85a2d0aea2a41'), 'name': 'Michael', 'address': 'Valley 345'}\n",
      "{'_id': ObjectId('63e0be2123f85a2d0aea2a42'), 'name': 'Sandy', 'address': 'Ocean blvd 2'}\n",
      "{'_id': ObjectId('63e0be2123f85a2d0aea2a43'), 'name': 'Betty', 'address': 'Green Grass 1'}\n",
      "{'_id': ObjectId('63e0be2123f85a2d0aea2a44'), 'name': 'Richard', 'address': 'Sky st 331'}\n",
      "{'_id': ObjectId('63e0be2123f85a2d0aea2a45'), 'name': 'Susan', 'address': 'One way 98'}\n",
      "{'_id': ObjectId('63e0be2123f85a2d0aea2a46'), 'name': 'Vicky', 'address': 'Yellow Garden 2'}\n",
      "{'_id': ObjectId('63e0be2123f85a2d0aea2a47'), 'name': 'Ben', 'address': 'Park Lane 38'}\n",
      "{'_id': ObjectId('63e0be2123f85a2d0aea2a48'), 'name': 'William', 'address': 'Central st 954'}\n",
      "{'_id': ObjectId('63e0be2123f85a2d0aea2a49'), 'name': 'Chuck', 'address': 'Main Road 989'}\n",
      "{'_id': ObjectId('63e0be2123f85a2d0aea2a4a'), 'name': 'Viola', 'address': 'Sideway 1633'}\n"
     ]
    }
   ],
   "source": [
    "#ANSWER:\n",
    "mycol.delete_many({ \"_id\": {\"$lt\": 15} })\n",
    "for x in mycol.find():\n",
    "  print(x)"
   ]
  },
  {
   "cell_type": "markdown",
   "metadata": {
    "id": "CsjxNZY6B_c1"
   },
   "source": [
    "This would delete all docs:\n",
    "`x = mycol.delete_many({})`\n",
    "\n",
    "This would remove the collection:\n",
    "`mycol.drop()`"
   ]
  },
  {
   "cell_type": "markdown",
   "metadata": {
    "id": "2Dnc3vItB_c2"
   },
   "source": [
    "Change the first instance of \"address\" == \"Valley 345\" to \"Canyon 123\" using update_one().  \n",
    "(HINT: The 1st paramater of update_one() is the criterion (query); the 2nd is dict specifying the field to change and its new value.) "
   ]
  },
  {
   "cell_type": "code",
   "execution_count": 156,
   "metadata": {
    "id": "lhd3SoGjB_c2"
   },
   "outputs": [
    {
     "name": "stdout",
     "output_type": "stream",
     "text": [
      "{'_id': ObjectId('63e0ae4623f85a2d0aea2a2b'), 'name': 'John', 'address': 'Highway 37'}\n",
      "{'_id': ObjectId('63e0ae6e23f85a2d0aea2a2c'), 'name': 'Peter', 'address': 'Lowstreet 27'}\n",
      "{'_id': ObjectId('63e0ae7a23f85a2d0aea2a2d'), 'name': 'Amy', 'address': 'Apple st 652'}\n",
      "{'_id': ObjectId('63e0ae7a23f85a2d0aea2a2f'), 'name': 'Michael', 'address': 'Canyon 123'}\n",
      "{'_id': ObjectId('63e0ae7a23f85a2d0aea2a30'), 'name': 'Sandy', 'address': 'Ocean blvd 2'}\n",
      "{'_id': ObjectId('63e0ae7a23f85a2d0aea2a31'), 'name': 'Betty', 'address': 'Green Grass 1'}\n",
      "{'_id': ObjectId('63e0ae7a23f85a2d0aea2a32'), 'name': 'Richard', 'address': 'Sky st 331'}\n",
      "{'_id': ObjectId('63e0ae7a23f85a2d0aea2a33'), 'name': 'Susan', 'address': 'One way 98'}\n",
      "{'_id': ObjectId('63e0ae7a23f85a2d0aea2a34'), 'name': 'Vicky', 'address': 'Yellow Garden 2'}\n",
      "{'_id': ObjectId('63e0ae7a23f85a2d0aea2a35'), 'name': 'Ben', 'address': 'Park Lane 38'}\n",
      "{'_id': ObjectId('63e0ae7a23f85a2d0aea2a36'), 'name': 'William', 'address': 'Central st 954'}\n",
      "{'_id': ObjectId('63e0ae7a23f85a2d0aea2a37'), 'name': 'Chuck', 'address': 'Main Road 989'}\n",
      "{'_id': ObjectId('63e0ae7a23f85a2d0aea2a38'), 'name': 'Viola', 'address': 'Sideway 1633'}\n",
      "{'_id': 15, 'name': 'Manuel', 'address': 'Barcelona'}\n",
      "{'_id': ObjectId('63e0b6b223f85a2d0aea2a39'), 'name': 'John', 'address': 'Highway 37'}\n",
      "{'_id': ObjectId('63e0b6e723f85a2d0aea2a3a'), 'name': 'John', 'address': 'Highway 37'}\n",
      "{'_id': ObjectId('63e0bc1323f85a2d0aea2a3b'), 'name': 'John', 'address': 'Highway 37'}\n",
      "{'_id': ObjectId('63e0be0c23f85a2d0aea2a3d'), 'name': 'John', 'address': 'Highway 37'}\n",
      "{'_id': ObjectId('63e0be1123f85a2d0aea2a3e'), 'name': 'Peter', 'address': 'Lowstreet 27'}\n",
      "{'_id': ObjectId('63e0be2123f85a2d0aea2a3f'), 'name': 'Amy', 'address': 'Apple st 652'}\n",
      "{'_id': ObjectId('63e0be2123f85a2d0aea2a41'), 'name': 'Michael', 'address': 'Canyon 123'}\n",
      "{'_id': ObjectId('63e0be2123f85a2d0aea2a42'), 'name': 'Sandy', 'address': 'Ocean blvd 2'}\n",
      "{'_id': ObjectId('63e0be2123f85a2d0aea2a43'), 'name': 'Betty', 'address': 'Green Grass 1'}\n",
      "{'_id': ObjectId('63e0be2123f85a2d0aea2a44'), 'name': 'Richard', 'address': 'Sky st 331'}\n",
      "{'_id': ObjectId('63e0be2123f85a2d0aea2a45'), 'name': 'Susan', 'address': 'One way 98'}\n",
      "{'_id': ObjectId('63e0be2123f85a2d0aea2a46'), 'name': 'Vicky', 'address': 'Yellow Garden 2'}\n",
      "{'_id': ObjectId('63e0be2123f85a2d0aea2a47'), 'name': 'Ben', 'address': 'Park Lane 38'}\n",
      "{'_id': ObjectId('63e0be2123f85a2d0aea2a48'), 'name': 'William', 'address': 'Central st 954'}\n",
      "{'_id': ObjectId('63e0be2123f85a2d0aea2a49'), 'name': 'Chuck', 'address': 'Main Road 989'}\n",
      "{'_id': ObjectId('63e0be2123f85a2d0aea2a4a'), 'name': 'Viola', 'address': 'Sideway 1633'}\n"
     ]
    }
   ],
   "source": [
    "#ANSWER:\n",
    "myquery = { \"address\": \"Valley 345\" }\n",
    "newvalues = { \"$set\": { \"address\": \"Canyon 123\" } }\n",
    "mycol.update_one(myquery, newvalues)\n",
    "for x in mycol.find():\n",
    "  print(x)"
   ]
  },
  {
   "cell_type": "markdown",
   "metadata": {
    "id": "56frrtHFB_c3"
   },
   "source": [
    "The limit() method can be applied after the find() method to limit the number of docs returned. Show the first 5 docs:"
   ]
  },
  {
   "cell_type": "code",
   "execution_count": 157,
   "metadata": {
    "id": "iKI5zKUbB_c4"
   },
   "outputs": [
    {
     "name": "stdout",
     "output_type": "stream",
     "text": [
      "{'_id': ObjectId('63e0ae4623f85a2d0aea2a2b'), 'name': 'John', 'address': 'Highway 37'}\n",
      "{'_id': ObjectId('63e0ae6e23f85a2d0aea2a2c'), 'name': 'Peter', 'address': 'Lowstreet 27'}\n",
      "{'_id': ObjectId('63e0ae7a23f85a2d0aea2a2d'), 'name': 'Amy', 'address': 'Apple st 652'}\n",
      "{'_id': ObjectId('63e0ae7a23f85a2d0aea2a2f'), 'name': 'Michael', 'address': 'Canyon 123'}\n",
      "{'_id': ObjectId('63e0ae7a23f85a2d0aea2a30'), 'name': 'Sandy', 'address': 'Ocean blvd 2'}\n"
     ]
    }
   ],
   "source": [
    "#ANSWER:\n",
    "myresult = mycol.find().limit(5)\n",
    "for x in myresult:\n",
    "  print(x)"
   ]
  },
  {
   "cell_type": "markdown",
   "metadata": {
    "id": "eT0nESi-B_c5"
   },
   "source": [
    "## PyMongo for Data Science"
   ]
  },
  {
   "cell_type": "markdown",
   "metadata": {
    "id": "S_MH0UFpB_c5"
   },
   "source": [
    "MongoDB has many more features of interest to developers, but the main focus of a data scientist will be wrangling and munging the data. It may or may not be desirable to do all the data munging in Pandas; for a large, distributed database, it may be imperative to perform aggregation in MongoDB. "
   ]
  },
  {
   "cell_type": "code",
   "execution_count": 49,
   "metadata": {
    "id": "TM1rIsJuB_c5"
   },
   "outputs": [],
   "source": [
    "# Ref:  https://rsandstroem.github.io/MongoDBDemo.html\n",
    "\n",
    "import os\n",
    "import pandas as pd\n",
    "import numpy as np"
   ]
  },
  {
   "cell_type": "markdown",
   "metadata": {
    "id": "L6kZkdjRB_c7"
   },
   "source": [
    "This code creates a database named \"test\" and populates it from a JSON file using the mongoimport program (executed in the operating systems itself, rather than in Python):"
   ]
  },
  {
   "cell_type": "code",
   "execution_count": 50,
   "metadata": {
    "id": "Ts0egvaQB_c7"
   },
   "outputs": [],
   "source": [
    "db = client.test\n",
    "# Drop the collection in case it was previously created:\n",
    "# collection = db.people\n",
    "# collection.drop()"
   ]
  },
  {
   "cell_type": "code",
   "execution_count": 52,
   "metadata": {
    "id": "xiJSDImFB_c8"
   },
   "outputs": [
    {
     "data": {
      "text/plain": [
       "'/Users/Vagner/Documents/IOD_Projects/Module3/Labs 3'"
      ]
     },
     "execution_count": 52,
     "metadata": {},
     "output_type": "execute_result"
    }
   ],
   "source": [
    "pwd()"
   ]
  },
  {
   "cell_type": "code",
   "execution_count": 61,
   "metadata": {
    "id": "uHLGg7K7B_c9"
   },
   "outputs": [
    {
     "name": "stderr",
     "output_type": "stream",
     "text": [
      "2023-02-06T21:02:10.102+1300\tFailed: open dummyData.json: no such file or directory\n",
      "2023-02-06T21:02:10.103+1300\t0 document(s) imported successfully. 0 document(s) failed to import.\n"
     ]
    },
    {
     "data": {
      "text/plain": [
       "256"
      ]
     },
     "execution_count": 61,
     "metadata": {},
     "output_type": "execute_result"
    }
   ],
   "source": [
    "# if this does not return 0, execute mongoimport from a commmand window instead:\n",
    "os.system('mongoimport -d test -c people --file dummyData.json')"
   ]
  },
  {
   "cell_type": "code",
   "execution_count": 64,
   "metadata": {
    "id": "fXByi5IfB_c_"
   },
   "outputs": [
    {
     "name": "stdout",
     "output_type": "stream",
     "text": [
      "{'_id': ObjectId('63e0b40c1fcc1d0c84fcb19c'), 'Name': 'Sawyer, Neve M.', 'Age': 18, 'Country': 'Serbia', 'Location': '-34.37446, 174.0838'}\n",
      "{'_id': ObjectId('63e0b40c1fcc1d0c84fcb159'), 'Name': 'Townsend, Cadman I.', 'Age': 19, 'Country': 'Somalia', 'Location': '-87.69188, -144.16138'}\n",
      "{'_id': ObjectId('63e0b40c1fcc1d0c84fcb184'), 'Name': 'Graham, Emerald O.', 'Age': 20, 'Country': 'Eritrea', 'Location': '61.35398, 28.04381'}\n"
     ]
    }
   ],
   "source": [
    "db = client.test\n",
    "collection = db.people\n",
    "cursor = collection.find().sort('Age',pymongo.ASCENDING).limit(3)\n",
    "for doc in cursor:\n",
    "    print (doc)"
   ]
  },
  {
   "cell_type": "markdown",
   "metadata": {
    "id": "vPnfkW2tB_dA"
   },
   "source": [
    "Here is a small demonstration of the MongoDB aggregation framework. We want to create a table of the number of persons in each country and their average age. To do it we group by country. We extract the results from MongoDB aggregation into a pandas dataframe, and use the country as index."
   ]
  },
  {
   "cell_type": "code",
   "execution_count": 65,
   "metadata": {
    "id": "s2q_B0m5B_dA"
   },
   "outputs": [
    {
     "data": {
      "text/html": [
       "<div>\n",
       "<style scoped>\n",
       "    .dataframe tbody tr th:only-of-type {\n",
       "        vertical-align: middle;\n",
       "    }\n",
       "\n",
       "    .dataframe tbody tr th {\n",
       "        vertical-align: top;\n",
       "    }\n",
       "\n",
       "    .dataframe thead th {\n",
       "        text-align: right;\n",
       "    }\n",
       "</style>\n",
       "<table border=\"1\" class=\"dataframe\">\n",
       "  <thead>\n",
       "    <tr style=\"text-align: right;\">\n",
       "      <th></th>\n",
       "      <th>AvgAge</th>\n",
       "      <th>Count</th>\n",
       "    </tr>\n",
       "    <tr>\n",
       "      <th>_id</th>\n",
       "      <th></th>\n",
       "      <th></th>\n",
       "    </tr>\n",
       "  </thead>\n",
       "  <tbody>\n",
       "    <tr>\n",
       "      <th>China</th>\n",
       "      <td>46.250000</td>\n",
       "      <td>4</td>\n",
       "    </tr>\n",
       "    <tr>\n",
       "      <th>Antarctica</th>\n",
       "      <td>46.333333</td>\n",
       "      <td>3</td>\n",
       "    </tr>\n",
       "    <tr>\n",
       "      <th>Guernsey</th>\n",
       "      <td>48.333333</td>\n",
       "      <td>3</td>\n",
       "    </tr>\n",
       "    <tr>\n",
       "      <th>Puerto Rico</th>\n",
       "      <td>26.500000</td>\n",
       "      <td>2</td>\n",
       "    </tr>\n",
       "    <tr>\n",
       "      <th>Heard Island and Mcdonald Islands</th>\n",
       "      <td>29.000000</td>\n",
       "      <td>2</td>\n",
       "    </tr>\n",
       "  </tbody>\n",
       "</table>\n",
       "</div>"
      ],
      "text/plain": [
       "                                      AvgAge  Count\n",
       "_id                                                \n",
       "China                              46.250000      4\n",
       "Antarctica                         46.333333      3\n",
       "Guernsey                           48.333333      3\n",
       "Puerto Rico                        26.500000      2\n",
       "Heard Island and Mcdonald Islands  29.000000      2"
      ]
     },
     "execution_count": 65,
     "metadata": {},
     "output_type": "execute_result"
    }
   ],
   "source": [
    "pipeline = [\n",
    "        {\"$group\": {\"_id\":\"$Country\",\n",
    "             \"AvgAge\":{\"$avg\":\"$Age\"},\n",
    "             \"Count\":{\"$sum\":1},\n",
    "        }},\n",
    "        {\"$sort\":{\"Count\":-1,\"AvgAge\":1}}\n",
    "]\n",
    "aggResult = collection.aggregate(pipeline) # returns a cursor\n",
    "\n",
    "df1 = pd.DataFrame(list(aggResult)) # use list to turn the cursor to an array of documents\n",
    "df1 = df1.set_index(\"_id\")\n",
    "df1.head()"
   ]
  },
  {
   "cell_type": "markdown",
   "metadata": {
    "id": "H9vaINaBB_dB"
   },
   "source": [
    "For simple cases one can either use a cursor through find(\"search term\") or use the \"$match\" operator in the aggregation framework, like this:"
   ]
  },
  {
   "cell_type": "code",
   "execution_count": 66,
   "metadata": {
    "id": "3oymmJpUB_dB",
    "tags": []
   },
   "outputs": [
    {
     "data": {
      "text/html": [
       "<div>\n",
       "<style scoped>\n",
       "    .dataframe tbody tr th:only-of-type {\n",
       "        vertical-align: middle;\n",
       "    }\n",
       "\n",
       "    .dataframe tbody tr th {\n",
       "        vertical-align: top;\n",
       "    }\n",
       "\n",
       "    .dataframe thead th {\n",
       "        text-align: right;\n",
       "    }\n",
       "</style>\n",
       "<table border=\"1\" class=\"dataframe\">\n",
       "  <thead>\n",
       "    <tr style=\"text-align: right;\">\n",
       "      <th></th>\n",
       "      <th>_id</th>\n",
       "      <th>Name</th>\n",
       "      <th>Age</th>\n",
       "      <th>Country</th>\n",
       "      <th>Location</th>\n",
       "    </tr>\n",
       "  </thead>\n",
       "  <tbody>\n",
       "    <tr>\n",
       "      <th>0</th>\n",
       "      <td>63e0b40c1fcc1d0c84fcb16b</td>\n",
       "      <td>Holman, Hasad O.</td>\n",
       "      <td>32</td>\n",
       "      <td>China</td>\n",
       "      <td>39.9127, 116.3833</td>\n",
       "    </tr>\n",
       "    <tr>\n",
       "      <th>1</th>\n",
       "      <td>63e0b40c1fcc1d0c84fcb197</td>\n",
       "      <td>Byrd, Dante A.</td>\n",
       "      <td>43</td>\n",
       "      <td>China</td>\n",
       "      <td>31.2, 121.5</td>\n",
       "    </tr>\n",
       "    <tr>\n",
       "      <th>2</th>\n",
       "      <td>63e0b40c1fcc1d0c84fcb19e</td>\n",
       "      <td>Carney, Tamekah I.</td>\n",
       "      <td>57</td>\n",
       "      <td>China</td>\n",
       "      <td>45.75, 126.6333</td>\n",
       "    </tr>\n",
       "    <tr>\n",
       "      <th>3</th>\n",
       "      <td>63e0b40c1fcc1d0c84fcb1ad</td>\n",
       "      <td>Mayer, Violet U.</td>\n",
       "      <td>53</td>\n",
       "      <td>China</td>\n",
       "      <td>40, 95</td>\n",
       "    </tr>\n",
       "  </tbody>\n",
       "</table>\n",
       "</div>"
      ],
      "text/plain": [
       "                        _id                Name  Age Country  \\\n",
       "0  63e0b40c1fcc1d0c84fcb16b    Holman, Hasad O.   32   China   \n",
       "1  63e0b40c1fcc1d0c84fcb197      Byrd, Dante A.   43   China   \n",
       "2  63e0b40c1fcc1d0c84fcb19e  Carney, Tamekah I.   57   China   \n",
       "3  63e0b40c1fcc1d0c84fcb1ad    Mayer, Violet U.   53   China   \n",
       "\n",
       "            Location  \n",
       "0  39.9127, 116.3833  \n",
       "1        31.2, 121.5  \n",
       "2    45.75, 126.6333  \n",
       "3             40, 95  "
      ]
     },
     "execution_count": 66,
     "metadata": {},
     "output_type": "execute_result"
    }
   ],
   "source": [
    "pipeline = [\n",
    "        {\"$match\": {\"Country\":\"China\"}},\n",
    "]\n",
    "aggResult = collection.aggregate(pipeline)\n",
    "df2 = pd.DataFrame(list(aggResult))\n",
    "df2.head()"
   ]
  },
  {
   "cell_type": "markdown",
   "metadata": {
    "id": "terLdzDaB_dC"
   },
   "source": [
    "Now we can apply all the power of Python libraries to analyse and visualise the data. Here, we will use the folium package to plot markers for the locations of the people we just found in China (click on a marker to see their data):"
   ]
  },
  {
   "cell_type": "code",
   "execution_count": null,
   "metadata": {
    "id": "v2lsaYlAB_dC"
   },
   "outputs": [],
   "source": [
    "# Un-comment and execute to install folium pkg (1st time only):\n",
    "# import sys\n",
    "# !{sys.executable} -m pip install folium"
   ]
  },
  {
   "cell_type": "code",
   "execution_count": 67,
   "metadata": {
    "id": "SuRbCt48B_dD"
   },
   "outputs": [
    {
     "name": "stdout",
     "output_type": "stream",
     "text": [
      "Folium version 0.13.0\n"
     ]
    },
    {
     "data": {
      "text/html": [
       "<div style=\"width:100%;\"><div style=\"position:relative;width:100%;height:0;padding-bottom:60%;\"><span style=\"color:#565656\">Make this Notebook Trusted to load map: File -> Trust Notebook</span><iframe srcdoc=\"&lt;!DOCTYPE html&gt;\n",
       "&lt;html&gt;\n",
       "&lt;head&gt;\n",
       "    \n",
       "    &lt;meta http-equiv=&quot;content-type&quot; content=&quot;text/html; charset=UTF-8&quot; /&gt;\n",
       "    \n",
       "        &lt;script&gt;\n",
       "            L_NO_TOUCH = false;\n",
       "            L_DISABLE_3D = false;\n",
       "        &lt;/script&gt;\n",
       "    \n",
       "    &lt;style&gt;html, body {width: 100%;height: 100%;margin: 0;padding: 0;}&lt;/style&gt;\n",
       "    &lt;style&gt;#map {position:absolute;top:0;bottom:0;right:0;left:0;}&lt;/style&gt;\n",
       "    &lt;script src=&quot;https://cdn.jsdelivr.net/npm/leaflet@1.6.0/dist/leaflet.js&quot;&gt;&lt;/script&gt;\n",
       "    &lt;script src=&quot;https://code.jquery.com/jquery-1.12.4.min.js&quot;&gt;&lt;/script&gt;\n",
       "    &lt;script src=&quot;https://maxcdn.bootstrapcdn.com/bootstrap/3.2.0/js/bootstrap.min.js&quot;&gt;&lt;/script&gt;\n",
       "    &lt;script src=&quot;https://cdnjs.cloudflare.com/ajax/libs/Leaflet.awesome-markers/2.0.2/leaflet.awesome-markers.js&quot;&gt;&lt;/script&gt;\n",
       "    &lt;link rel=&quot;stylesheet&quot; href=&quot;https://cdn.jsdelivr.net/npm/leaflet@1.6.0/dist/leaflet.css&quot;/&gt;\n",
       "    &lt;link rel=&quot;stylesheet&quot; href=&quot;https://maxcdn.bootstrapcdn.com/bootstrap/3.2.0/css/bootstrap.min.css&quot;/&gt;\n",
       "    &lt;link rel=&quot;stylesheet&quot; href=&quot;https://maxcdn.bootstrapcdn.com/bootstrap/3.2.0/css/bootstrap-theme.min.css&quot;/&gt;\n",
       "    &lt;link rel=&quot;stylesheet&quot; href=&quot;https://maxcdn.bootstrapcdn.com/font-awesome/4.6.3/css/font-awesome.min.css&quot;/&gt;\n",
       "    &lt;link rel=&quot;stylesheet&quot; href=&quot;https://cdnjs.cloudflare.com/ajax/libs/Leaflet.awesome-markers/2.0.2/leaflet.awesome-markers.css&quot;/&gt;\n",
       "    &lt;link rel=&quot;stylesheet&quot; href=&quot;https://cdn.jsdelivr.net/gh/python-visualization/folium/folium/templates/leaflet.awesome.rotate.min.css&quot;/&gt;\n",
       "    \n",
       "            &lt;meta name=&quot;viewport&quot; content=&quot;width=device-width,\n",
       "                initial-scale=1.0, maximum-scale=1.0, user-scalable=no&quot; /&gt;\n",
       "            &lt;style&gt;\n",
       "                #map_1e82272625bf1a92854f72addde09cd7 {\n",
       "                    position: relative;\n",
       "                    width: 100.0%;\n",
       "                    height: 100.0%;\n",
       "                    left: 0.0%;\n",
       "                    top: 0.0%;\n",
       "                }\n",
       "            &lt;/style&gt;\n",
       "        \n",
       "&lt;/head&gt;\n",
       "&lt;body&gt;\n",
       "    \n",
       "    \n",
       "            &lt;div class=&quot;folium-map&quot; id=&quot;map_1e82272625bf1a92854f72addde09cd7&quot; &gt;&lt;/div&gt;\n",
       "        \n",
       "&lt;/body&gt;\n",
       "&lt;script&gt;\n",
       "    \n",
       "    \n",
       "            var map_1e82272625bf1a92854f72addde09cd7 = L.map(\n",
       "                &quot;map_1e82272625bf1a92854f72addde09cd7&quot;,\n",
       "                {\n",
       "                    center: [35.0, 100.0],\n",
       "                    crs: L.CRS.EPSG3857,\n",
       "                    zoom: 4,\n",
       "                    zoomControl: true,\n",
       "                    preferCanvas: false,\n",
       "                }\n",
       "            );\n",
       "\n",
       "            \n",
       "\n",
       "        \n",
       "    \n",
       "            var tile_layer_e91bead6088202b89b088268e43e2cd3 = L.tileLayer(\n",
       "                &quot;https://{s}.tile.openstreetmap.org/{z}/{x}/{y}.png&quot;,\n",
       "                {&quot;attribution&quot;: &quot;Data by \\u0026copy; \\u003ca href=\\&quot;http://openstreetmap.org\\&quot;\\u003eOpenStreetMap\\u003c/a\\u003e, under \\u003ca href=\\&quot;http://www.openstreetmap.org/copyright\\&quot;\\u003eODbL\\u003c/a\\u003e.&quot;, &quot;detectRetina&quot;: false, &quot;maxNativeZoom&quot;: 18, &quot;maxZoom&quot;: 18, &quot;minZoom&quot;: 0, &quot;noWrap&quot;: false, &quot;opacity&quot;: 1, &quot;subdomains&quot;: &quot;abc&quot;, &quot;tms&quot;: false}\n",
       "            ).addTo(map_1e82272625bf1a92854f72addde09cd7);\n",
       "        \n",
       "    \n",
       "            var marker_9720d233bf331f3844dd0a046d53c456 = L.marker(\n",
       "                [39.9127, 116.3833],\n",
       "                {}\n",
       "            ).addTo(map_1e82272625bf1a92854f72addde09cd7);\n",
       "        \n",
       "    \n",
       "        var popup_4d166fe70d4d9c633031429e094cfc56 = L.popup({&quot;maxWidth&quot;: &quot;100%&quot;});\n",
       "\n",
       "        \n",
       "            \n",
       "                var html_34e8c9702ea0bdf2bc5e39c20e791a88 = $(`&lt;div id=&quot;html_34e8c9702ea0bdf2bc5e39c20e791a88&quot; style=&quot;width: 100.0%; height: 100.0%;&quot;&gt;Holman, Hasad O., age:32&lt;/div&gt;`)[0];\n",
       "                popup_4d166fe70d4d9c633031429e094cfc56.setContent(html_34e8c9702ea0bdf2bc5e39c20e791a88);\n",
       "            \n",
       "        \n",
       "\n",
       "        marker_9720d233bf331f3844dd0a046d53c456.bindPopup(popup_4d166fe70d4d9c633031429e094cfc56)\n",
       "        ;\n",
       "\n",
       "        \n",
       "    \n",
       "    \n",
       "            var marker_dc818ccaff6384d8f670aa892f484ff2 = L.marker(\n",
       "                [31.2, 121.5],\n",
       "                {}\n",
       "            ).addTo(map_1e82272625bf1a92854f72addde09cd7);\n",
       "        \n",
       "    \n",
       "        var popup_3336bed0c397e6373f18a53af9504ece = L.popup({&quot;maxWidth&quot;: &quot;100%&quot;});\n",
       "\n",
       "        \n",
       "            \n",
       "                var html_c01d3e457ec9c845ca881a2ddb3f870c = $(`&lt;div id=&quot;html_c01d3e457ec9c845ca881a2ddb3f870c&quot; style=&quot;width: 100.0%; height: 100.0%;&quot;&gt;Byrd, Dante A., age:43&lt;/div&gt;`)[0];\n",
       "                popup_3336bed0c397e6373f18a53af9504ece.setContent(html_c01d3e457ec9c845ca881a2ddb3f870c);\n",
       "            \n",
       "        \n",
       "\n",
       "        marker_dc818ccaff6384d8f670aa892f484ff2.bindPopup(popup_3336bed0c397e6373f18a53af9504ece)\n",
       "        ;\n",
       "\n",
       "        \n",
       "    \n",
       "    \n",
       "            var marker_7623c6d5cdec1917566868980b8a880b = L.marker(\n",
       "                [45.75, 126.6333],\n",
       "                {}\n",
       "            ).addTo(map_1e82272625bf1a92854f72addde09cd7);\n",
       "        \n",
       "    \n",
       "        var popup_6b115d93854588693894902d0ac61f03 = L.popup({&quot;maxWidth&quot;: &quot;100%&quot;});\n",
       "\n",
       "        \n",
       "            \n",
       "                var html_9d11b74980f79982f534dc26fb343700 = $(`&lt;div id=&quot;html_9d11b74980f79982f534dc26fb343700&quot; style=&quot;width: 100.0%; height: 100.0%;&quot;&gt;Carney, Tamekah I., age:57&lt;/div&gt;`)[0];\n",
       "                popup_6b115d93854588693894902d0ac61f03.setContent(html_9d11b74980f79982f534dc26fb343700);\n",
       "            \n",
       "        \n",
       "\n",
       "        marker_7623c6d5cdec1917566868980b8a880b.bindPopup(popup_6b115d93854588693894902d0ac61f03)\n",
       "        ;\n",
       "\n",
       "        \n",
       "    \n",
       "    \n",
       "            var marker_bb0f2cc7cd4c1cb9ca248de210ba48be = L.marker(\n",
       "                [40.0, 95.0],\n",
       "                {}\n",
       "            ).addTo(map_1e82272625bf1a92854f72addde09cd7);\n",
       "        \n",
       "    \n",
       "        var popup_18633fd28c63e303b18810c9eefd1858 = L.popup({&quot;maxWidth&quot;: &quot;100%&quot;});\n",
       "\n",
       "        \n",
       "            \n",
       "                var html_d7ebc3d89ba308bcaf6b9011c7b60bbd = $(`&lt;div id=&quot;html_d7ebc3d89ba308bcaf6b9011c7b60bbd&quot; style=&quot;width: 100.0%; height: 100.0%;&quot;&gt;Mayer, Violet U., age:53&lt;/div&gt;`)[0];\n",
       "                popup_18633fd28c63e303b18810c9eefd1858.setContent(html_d7ebc3d89ba308bcaf6b9011c7b60bbd);\n",
       "            \n",
       "        \n",
       "\n",
       "        marker_bb0f2cc7cd4c1cb9ca248de210ba48be.bindPopup(popup_18633fd28c63e303b18810c9eefd1858)\n",
       "        ;\n",
       "\n",
       "        \n",
       "    \n",
       "&lt;/script&gt;\n",
       "&lt;/html&gt;\" style=\"position:absolute;width:100%;height:100%;left:0;top:0;border:none !important;\" allowfullscreen webkitallowfullscreen mozallowfullscreen></iframe></div></div>"
      ],
      "text/plain": [
       "<folium.folium.Map at 0x7fb8ba9d30d0>"
      ]
     },
     "execution_count": 67,
     "metadata": {},
     "output_type": "execute_result"
    }
   ],
   "source": [
    "import folium\n",
    "print ('Folium version ' + folium.__version__)\n",
    "\n",
    "world_map = folium.Map(location = [35, 100], zoom_start = 4)\n",
    "for i in range(len(df2)):\n",
    "    location = [float(loc) for loc in df2.Location[i].split(',')]\n",
    "    folium.Marker(location = location, popup = df2.Name[i] + ', age:' + str(df2.Age[i])).add_to(world_map)\n",
    "    \n",
    "world_map"
   ]
  },
  {
   "cell_type": "markdown",
   "metadata": {
    "id": "Sr0Uxfq8B_dD"
   },
   "source": [
    "## HOMEWORK:\n"
   ]
  },
  {
   "cell_type": "markdown",
   "metadata": {
    "id": "82_s5XvcB_dD"
   },
   "source": [
    "1. Read up on how to perform aggregation in mongoDB. Insert a duplicate record into the collection:\n",
    "        mydict = { \"name\": \"John\", \"address\": \"Highway 37\" }\n",
    "   Now write a command to find docs with a duplicate \"name\" field (using aggregation) and remove them.  \n",
    "   Print the collection."
   ]
  },
  {
   "cell_type": "code",
   "execution_count": 102,
   "metadata": {},
   "outputs": [],
   "source": [
    "collection = db.people\n",
    "collection.drop()"
   ]
  },
  {
   "cell_type": "code",
   "execution_count": 103,
   "metadata": {},
   "outputs": [],
   "source": [
    "db = client.test\n",
    "collection = db.people"
   ]
  },
  {
   "cell_type": "code",
   "execution_count": 108,
   "metadata": {},
   "outputs": [
    {
     "name": "stdout",
     "output_type": "stream",
     "text": [
      "['admin', 'config', 'local', 'mydatabase']\n"
     ]
    }
   ],
   "source": [
    "print(client.list_database_names())"
   ]
  },
  {
   "cell_type": "code",
   "execution_count": 109,
   "metadata": {},
   "outputs": [
    {
     "name": "stdout",
     "output_type": "stream",
     "text": [
      "['customers']\n"
     ]
    }
   ],
   "source": [
    "#ANSWER:\n",
    "print(mydb.list_collection_names())"
   ]
  },
  {
   "cell_type": "code",
   "execution_count": 158,
   "metadata": {},
   "outputs": [
    {
     "name": "stdout",
     "output_type": "stream",
     "text": [
      "{'name': 'John', 'address': 'Highway 37'}\n",
      "{'name': 'Peter', 'address': 'Lowstreet 27'}\n",
      "{'name': 'Amy', 'address': 'Apple st 652'}\n",
      "{'name': 'Michael', 'address': 'Canyon 123'}\n",
      "{'name': 'Sandy', 'address': 'Ocean blvd 2'}\n",
      "{'name': 'Betty', 'address': 'Green Grass 1'}\n",
      "{'name': 'Richard', 'address': 'Sky st 331'}\n",
      "{'name': 'Susan', 'address': 'One way 98'}\n",
      "{'name': 'Vicky', 'address': 'Yellow Garden 2'}\n",
      "{'name': 'Ben', 'address': 'Park Lane 38'}\n",
      "{'name': 'William', 'address': 'Central st 954'}\n",
      "{'name': 'Chuck', 'address': 'Main Road 989'}\n",
      "{'name': 'Viola', 'address': 'Sideway 1633'}\n",
      "{'name': 'Manuel', 'address': 'Barcelona'}\n",
      "{'name': 'John', 'address': 'Highway 37'}\n",
      "{'name': 'John', 'address': 'Highway 37'}\n",
      "{'name': 'John', 'address': 'Highway 37'}\n",
      "{'name': 'John', 'address': 'Highway 37'}\n",
      "{'name': 'Peter', 'address': 'Lowstreet 27'}\n",
      "{'name': 'Amy', 'address': 'Apple st 652'}\n",
      "{'name': 'Michael', 'address': 'Canyon 123'}\n",
      "{'name': 'Sandy', 'address': 'Ocean blvd 2'}\n",
      "{'name': 'Betty', 'address': 'Green Grass 1'}\n",
      "{'name': 'Richard', 'address': 'Sky st 331'}\n",
      "{'name': 'Susan', 'address': 'One way 98'}\n",
      "{'name': 'Vicky', 'address': 'Yellow Garden 2'}\n",
      "{'name': 'Ben', 'address': 'Park Lane 38'}\n",
      "{'name': 'William', 'address': 'Central st 954'}\n",
      "{'name': 'Chuck', 'address': 'Main Road 989'}\n",
      "{'name': 'Viola', 'address': 'Sideway 1633'}\n"
     ]
    }
   ],
   "source": [
    "for x in mycol.find({},{ \"_id\": 0, \"name\": 1, \"address\": 1 }):\n",
    "  print(x)"
   ]
  },
  {
   "cell_type": "code",
   "execution_count": 159,
   "metadata": {},
   "outputs": [
    {
     "name": "stdout",
     "output_type": "stream",
     "text": [
      "63e0bea423f85a2d0aea2a4b\n"
     ]
    }
   ],
   "source": [
    "mydict = { \"name\": \"John\", \"address\": \"Highway 37\" }\n",
    "x = mycol.insert_one(mydict)\n",
    "print(x.inserted_id)"
   ]
  },
  {
   "cell_type": "code",
   "execution_count": 160,
   "metadata": {},
   "outputs": [
    {
     "name": "stdout",
     "output_type": "stream",
     "text": [
      "{'_id': ObjectId('63e0ae4623f85a2d0aea2a2b'), 'name': 'John'}\n",
      "{'_id': ObjectId('63e0ae6e23f85a2d0aea2a2c'), 'name': 'Peter'}\n",
      "{'_id': ObjectId('63e0ae7a23f85a2d0aea2a2d'), 'name': 'Amy'}\n",
      "{'_id': ObjectId('63e0ae7a23f85a2d0aea2a2f'), 'name': 'Michael'}\n",
      "{'_id': ObjectId('63e0ae7a23f85a2d0aea2a30'), 'name': 'Sandy'}\n",
      "{'_id': ObjectId('63e0ae7a23f85a2d0aea2a31'), 'name': 'Betty'}\n",
      "{'_id': ObjectId('63e0ae7a23f85a2d0aea2a32'), 'name': 'Richard'}\n",
      "{'_id': ObjectId('63e0ae7a23f85a2d0aea2a33'), 'name': 'Susan'}\n",
      "{'_id': ObjectId('63e0ae7a23f85a2d0aea2a34'), 'name': 'Vicky'}\n",
      "{'_id': ObjectId('63e0ae7a23f85a2d0aea2a35'), 'name': 'Ben'}\n",
      "{'_id': ObjectId('63e0ae7a23f85a2d0aea2a36'), 'name': 'William'}\n",
      "{'_id': ObjectId('63e0ae7a23f85a2d0aea2a37'), 'name': 'Chuck'}\n",
      "{'_id': ObjectId('63e0ae7a23f85a2d0aea2a38'), 'name': 'Viola'}\n",
      "{'_id': 15, 'name': 'Manuel'}\n",
      "{'_id': ObjectId('63e0b6b223f85a2d0aea2a39'), 'name': 'John'}\n",
      "{'_id': ObjectId('63e0b6e723f85a2d0aea2a3a'), 'name': 'John'}\n",
      "{'_id': ObjectId('63e0bc1323f85a2d0aea2a3b'), 'name': 'John'}\n",
      "{'_id': ObjectId('63e0be0c23f85a2d0aea2a3d'), 'name': 'John'}\n",
      "{'_id': ObjectId('63e0be1123f85a2d0aea2a3e'), 'name': 'Peter'}\n",
      "{'_id': ObjectId('63e0be2123f85a2d0aea2a3f'), 'name': 'Amy'}\n",
      "{'_id': ObjectId('63e0be2123f85a2d0aea2a41'), 'name': 'Michael'}\n",
      "{'_id': ObjectId('63e0be2123f85a2d0aea2a42'), 'name': 'Sandy'}\n",
      "{'_id': ObjectId('63e0be2123f85a2d0aea2a43'), 'name': 'Betty'}\n",
      "{'_id': ObjectId('63e0be2123f85a2d0aea2a44'), 'name': 'Richard'}\n",
      "{'_id': ObjectId('63e0be2123f85a2d0aea2a45'), 'name': 'Susan'}\n",
      "{'_id': ObjectId('63e0be2123f85a2d0aea2a46'), 'name': 'Vicky'}\n",
      "{'_id': ObjectId('63e0be2123f85a2d0aea2a47'), 'name': 'Ben'}\n",
      "{'_id': ObjectId('63e0be2123f85a2d0aea2a48'), 'name': 'William'}\n",
      "{'_id': ObjectId('63e0be2123f85a2d0aea2a49'), 'name': 'Chuck'}\n",
      "{'_id': ObjectId('63e0be2123f85a2d0aea2a4a'), 'name': 'Viola'}\n",
      "{'_id': ObjectId('63e0bea423f85a2d0aea2a4b'), 'name': 'John'}\n"
     ]
    }
   ],
   "source": [
    "for x in mycol.find({},{ \"_id\": 1, \"name\": 1 }):\n",
    "  print(x)"
   ]
  },
  {
   "cell_type": "code",
   "execution_count": 167,
   "metadata": {},
   "outputs": [
    {
     "data": {
      "text/html": [
       "<div>\n",
       "<style scoped>\n",
       "    .dataframe tbody tr th:only-of-type {\n",
       "        vertical-align: middle;\n",
       "    }\n",
       "\n",
       "    .dataframe tbody tr th {\n",
       "        vertical-align: top;\n",
       "    }\n",
       "\n",
       "    .dataframe thead th {\n",
       "        text-align: right;\n",
       "    }\n",
       "</style>\n",
       "<table border=\"1\" class=\"dataframe\">\n",
       "  <thead>\n",
       "    <tr style=\"text-align: right;\">\n",
       "      <th></th>\n",
       "    </tr>\n",
       "  </thead>\n",
       "  <tbody>\n",
       "  </tbody>\n",
       "</table>\n",
       "</div>"
      ],
      "text/plain": [
       "Empty DataFrame\n",
       "Columns: []\n",
       "Index: []"
      ]
     },
     "execution_count": 167,
     "metadata": {},
     "output_type": "execute_result"
    }
   ],
   "source": [
    "aggResult = collection.aggregate([\n",
    "    {\"$group\" : { \"_id\": \"$name\", \"count\": { \"$sum\": 1 } } },\n",
    "    {\"$match\": {  \"count\" : {\"$gt\": 1} } } , \n",
    "    {\"$project\": {\"name\" : \"$_id\", \"_id\" : 0} } \n",
    "]);\n",
    "df3 = pd.DataFrame(list(aggResult))\n",
    "df3.head()"
   ]
  },
  {
   "cell_type": "markdown",
   "metadata": {
    "id": "1Ndwie7xB_dE"
   },
   "source": [
    "2. Read up on how to apply indexes in mongoDB. Create an index on the \"name\" and \"address\" fields in this collection.\n",
    "   Print the indexes for the collection."
   ]
  },
  {
   "cell_type": "code",
   "execution_count": 166,
   "metadata": {
    "id": "bFyHLpKyB_dE"
   },
   "outputs": [
    {
     "ename": "NameError",
     "evalue": "name 'name' is not defined",
     "output_type": "error",
     "traceback": [
      "\u001b[0;31m---------------------------------------------------------------------------\u001b[0m",
      "\u001b[0;31mNameError\u001b[0m                                 Traceback (most recent call last)",
      "Cell \u001b[0;32mIn [166], line 1\u001b[0m\n\u001b[0;32m----> 1\u001b[0m db\u001b[38;5;241m.\u001b[39mcustomers\u001b[38;5;241m.\u001b[39mcreateIndex({\u001b[43mname\u001b[49m: name, address: adress})\n",
      "\u001b[0;31mNameError\u001b[0m: name 'name' is not defined"
     ]
    }
   ],
   "source": [
    "db.customers.createIndex({name: 1, address: 1})"
   ]
  },
  {
   "cell_type": "markdown",
   "metadata": {
    "id": "Hj8GdoOXC-Lu"
   },
   "source": [
    "\n",
    "\n",
    "> \n",
    ">\n",
    ">\n",
    "\n",
    "\n"
   ]
  },
  {
   "cell_type": "markdown",
   "metadata": {
    "id": "MlasiTKgDGdA"
   },
   "source": [
    "\n",
    "\n",
    "---\n",
    "\n",
    "\n",
    "\n",
    "---\n",
    "\n",
    "\n",
    "\n",
    "> > > > > > > > > © 2022 Institute of Data\n",
    "\n",
    "\n",
    "---\n",
    "\n",
    "\n",
    "\n",
    "---\n",
    "\n",
    "\n",
    "\n"
   ]
  }
 ],
 "metadata": {
  "colab": {
   "collapsed_sections": [
    "eT0nESi-B_c5"
   ],
   "name": "IOD_Lab 3.1.4.ipynb",
   "provenance": [
    {
     "file_id": "17D0zRG20oX_57CwR4eNwdLhO4Qhlk4Dx",
     "timestamp": 1553134552284
    }
   ]
  },
  "kernelspec": {
   "display_name": "Python 3 (ipykernel)",
   "language": "python",
   "name": "python3"
  },
  "language_info": {
   "codemirror_mode": {
    "name": "ipython",
    "version": 3
   },
   "file_extension": ".py",
   "mimetype": "text/x-python",
   "name": "python",
   "nbconvert_exporter": "python",
   "pygments_lexer": "ipython3",
   "version": "3.9.13"
  }
 },
 "nbformat": 4,
 "nbformat_minor": 4
}
